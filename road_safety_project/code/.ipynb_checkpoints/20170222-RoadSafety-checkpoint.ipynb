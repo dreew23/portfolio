{
 "cells": [
  {
   "cell_type": "markdown",
   "metadata": {},
   "source": [
    "# Road Safety Portfolio Project"
   ]
  },
  {
   "cell_type": "markdown",
   "metadata": {},
   "source": [
    "The following project uses the workflow presented by the book [Data Science Solutions](https://startupsci.com/). This workflow can be split broadly into seven stages:\n",
    "\n",
    "1. Set the problem definition / the question you are trying to answer.\n",
    "2. Acquire the training and testing data.\n",
    "3. Wrangle, prepare, cleanse the data.\n",
    "4. Analyze, identify patterns, and explore the data.\n",
    "5. Model, predict, solve the problem.\n",
    "6. Visualise, report, present the problem solving steps and final solution.\n",
    "7. Present the overview of the solution to be useful to non-technical people.\n",
    "\n",
    "These steps are not concrete and the steps can be merged or even dropped if not necessary."
   ]
  },
  {
   "cell_type": "markdown",
   "metadata": {},
   "source": [
    "## Problem definition"
   ]
  },
  {
   "cell_type": "markdown",
   "metadata": {},
   "source": [
    "JStone Insurance are a large insurer based in the UK, operating principally in Vehicle Insurance (both personal Car and business including vans and HGVs) and Car Breakdown with a disproportionately large proportion of customers and claims located in London. \n",
    "JStone Insurance have identified three areas where they would like to make improvements using Data Science:\n",
    "1.\tEnhanced risk pricing\n",
    "2.\tEnhanced breakdown response\n",
    "3.\tStronger customer relationship"
   ]
  },
  {
   "cell_type": "markdown",
   "metadata": {},
   "source": [
    "1) **Enhanced risk pricing**\n",
    "We are interested in improving our pricing of car insurance policies in order to identify who is most likely to cause high cost claims as a result of an accident in the Greater London Area.\n",
    "\n",
    "We would like to improve risk pricing by identifying accidents resulting in most serious/fatal injuries, multiple vehicle accidents injuries to pedestrians (3rd party liability).\n",
    "\n",
    "This could be done through providing different pricing factors for driver demographics, vehicle information vehicle usage"
   ]
  },
  {
   "cell_type": "markdown",
   "metadata": {},
   "source": [
    "2) **Enhanced breakdown response**\n",
    "We operate a breakdown service for our customers. We are looking to understand where our breakdown patrols should be located at different times during the day.\n",
    "\n",
    "Understand how to deploy breakdown resources: which locations should we have our breakdown depot / deploy our patrol vehicles dynamically based on where accidents are most likely to occur\n",
    "\n"
   ]
  },
  {
   "cell_type": "markdown",
   "metadata": {},
   "source": [
    "3) **Stronger customer relationship**\n",
    "As part of building the relationship with our customers and to increase brand loyalty, we would like to provide our customers with tailored communications warning them to be careful and provide tips to reduce chances of having an accident.\n",
    "\n",
    "Understand how to send tailored communications to people who are most at risk of having an accident given: who they are, where they are, weather conditions, their vehicle and how they use it.\n",
    "\n",
    "Looking to understand: who to contact, when to contact, messaging (driving tips - i.e. be especially careful when joining a motorway, x% of accidents happen) "
   ]
  },
  {
   "cell_type": "markdown",
   "metadata": {},
   "source": [
    "## Acquire the training and testing data"
   ]
  },
  {
   "cell_type": "code",
   "execution_count": 1,
   "metadata": {
    "collapsed": true
   },
   "outputs": [],
   "source": [
    "import os\n",
    "import pandas as pd\n",
    "import numpy as np\n",
    "import matplotlib.pyplot as plt\n",
    "%matplotlib inline\n",
    "import seaborn as sns"
   ]
  },
  {
   "cell_type": "code",
   "execution_count": 2,
   "metadata": {
    "collapsed": false
   },
   "outputs": [],
   "source": [
    "os.chdir(\"../data/initial_download/\")"
   ]
  },
  {
   "cell_type": "code",
   "execution_count": 3,
   "metadata": {
    "collapsed": false
   },
   "outputs": [],
   "source": [
    "accidents = pd.read_csv(\"Accidents_2015.csv\", dtype={'Accident_Index': str})\n",
    "casualties = pd.read_csv(\"Casualties_2015.csv\", dtype={'Accident_Index': str})\n",
    "vehicles = pd.read_csv(\"Vehicles_2015.csv\", dtype={'Accident_Index': str})"
   ]
  },
  {
   "cell_type": "markdown",
   "metadata": {},
   "source": [
    "Initially, I did not set the data type of the Accident_Index (which is the unique key between all datasets) to be a string, meaning that the merges did not work as desired."
   ]
  },
  {
   "cell_type": "markdown",
   "metadata": {},
   "source": [
    "## Wrangle, prepare, cleanse the data"
   ]
  },
  {
   "cell_type": "markdown",
   "metadata": {},
   "source": [
    "### Descriptive analytics"
   ]
  },
  {
   "cell_type": "markdown",
   "metadata": {},
   "source": [
    "The first step is to understand the meanings of the datasets. From here we can explore them and see how the information can be joined to create one coherent dataset."
   ]
  },
  {
   "cell_type": "code",
   "execution_count": 4,
   "metadata": {
    "collapsed": false
   },
   "outputs": [
    {
     "data": {
      "text/html": [
       "<div>\n",
       "<table border=\"1\" class=\"dataframe\">\n",
       "  <thead>\n",
       "    <tr style=\"text-align: right;\">\n",
       "      <th></th>\n",
       "      <th>Accident_Index</th>\n",
       "      <th>Location_Easting_OSGR</th>\n",
       "      <th>Location_Northing_OSGR</th>\n",
       "      <th>Longitude</th>\n",
       "      <th>Latitude</th>\n",
       "      <th>Police_Force</th>\n",
       "      <th>Accident_Severity</th>\n",
       "      <th>Number_of_Vehicles</th>\n",
       "      <th>Number_of_Casualties</th>\n",
       "      <th>Date</th>\n",
       "      <th>...</th>\n",
       "      <th>Pedestrian_Crossing-Human_Control</th>\n",
       "      <th>Pedestrian_Crossing-Physical_Facilities</th>\n",
       "      <th>Light_Conditions</th>\n",
       "      <th>Weather_Conditions</th>\n",
       "      <th>Road_Surface_Conditions</th>\n",
       "      <th>Special_Conditions_at_Site</th>\n",
       "      <th>Carriageway_Hazards</th>\n",
       "      <th>Urban_or_Rural_Area</th>\n",
       "      <th>Did_Police_Officer_Attend_Scene_of_Accident</th>\n",
       "      <th>LSOA_of_Accident_Location</th>\n",
       "    </tr>\n",
       "  </thead>\n",
       "  <tbody>\n",
       "    <tr>\n",
       "      <th>0</th>\n",
       "      <td>201501BS70001</td>\n",
       "      <td>525130.0</td>\n",
       "      <td>180050.0</td>\n",
       "      <td>-0.198465</td>\n",
       "      <td>51.505538</td>\n",
       "      <td>1</td>\n",
       "      <td>3</td>\n",
       "      <td>1</td>\n",
       "      <td>1</td>\n",
       "      <td>12/01/2015</td>\n",
       "      <td>...</td>\n",
       "      <td>0</td>\n",
       "      <td>0</td>\n",
       "      <td>4</td>\n",
       "      <td>1</td>\n",
       "      <td>1</td>\n",
       "      <td>0</td>\n",
       "      <td>0</td>\n",
       "      <td>1</td>\n",
       "      <td>1</td>\n",
       "      <td>E01002825</td>\n",
       "    </tr>\n",
       "    <tr>\n",
       "      <th>1</th>\n",
       "      <td>201501BS70002</td>\n",
       "      <td>526530.0</td>\n",
       "      <td>178560.0</td>\n",
       "      <td>-0.178838</td>\n",
       "      <td>51.491836</td>\n",
       "      <td>1</td>\n",
       "      <td>3</td>\n",
       "      <td>1</td>\n",
       "      <td>1</td>\n",
       "      <td>12/01/2015</td>\n",
       "      <td>...</td>\n",
       "      <td>0</td>\n",
       "      <td>0</td>\n",
       "      <td>1</td>\n",
       "      <td>1</td>\n",
       "      <td>1</td>\n",
       "      <td>0</td>\n",
       "      <td>0</td>\n",
       "      <td>1</td>\n",
       "      <td>1</td>\n",
       "      <td>E01002820</td>\n",
       "    </tr>\n",
       "    <tr>\n",
       "      <th>2</th>\n",
       "      <td>201501BS70004</td>\n",
       "      <td>524610.0</td>\n",
       "      <td>181080.0</td>\n",
       "      <td>-0.205590</td>\n",
       "      <td>51.514910</td>\n",
       "      <td>1</td>\n",
       "      <td>3</td>\n",
       "      <td>1</td>\n",
       "      <td>1</td>\n",
       "      <td>12/01/2015</td>\n",
       "      <td>...</td>\n",
       "      <td>0</td>\n",
       "      <td>1</td>\n",
       "      <td>4</td>\n",
       "      <td>2</td>\n",
       "      <td>2</td>\n",
       "      <td>0</td>\n",
       "      <td>0</td>\n",
       "      <td>1</td>\n",
       "      <td>1</td>\n",
       "      <td>E01002833</td>\n",
       "    </tr>\n",
       "    <tr>\n",
       "      <th>3</th>\n",
       "      <td>201501BS70005</td>\n",
       "      <td>524420.0</td>\n",
       "      <td>181080.0</td>\n",
       "      <td>-0.208327</td>\n",
       "      <td>51.514952</td>\n",
       "      <td>1</td>\n",
       "      <td>3</td>\n",
       "      <td>1</td>\n",
       "      <td>1</td>\n",
       "      <td>13/01/2015</td>\n",
       "      <td>...</td>\n",
       "      <td>0</td>\n",
       "      <td>0</td>\n",
       "      <td>1</td>\n",
       "      <td>1</td>\n",
       "      <td>2</td>\n",
       "      <td>0</td>\n",
       "      <td>0</td>\n",
       "      <td>1</td>\n",
       "      <td>2</td>\n",
       "      <td>E01002874</td>\n",
       "    </tr>\n",
       "    <tr>\n",
       "      <th>4</th>\n",
       "      <td>201501BS70008</td>\n",
       "      <td>524630.0</td>\n",
       "      <td>179040.0</td>\n",
       "      <td>-0.206022</td>\n",
       "      <td>51.496572</td>\n",
       "      <td>1</td>\n",
       "      <td>2</td>\n",
       "      <td>2</td>\n",
       "      <td>1</td>\n",
       "      <td>09/01/2015</td>\n",
       "      <td>...</td>\n",
       "      <td>0</td>\n",
       "      <td>5</td>\n",
       "      <td>1</td>\n",
       "      <td>2</td>\n",
       "      <td>2</td>\n",
       "      <td>0</td>\n",
       "      <td>0</td>\n",
       "      <td>1</td>\n",
       "      <td>2</td>\n",
       "      <td>E01002814</td>\n",
       "    </tr>\n",
       "  </tbody>\n",
       "</table>\n",
       "<p>5 rows × 32 columns</p>\n",
       "</div>"
      ],
      "text/plain": [
       "  Accident_Index  Location_Easting_OSGR  Location_Northing_OSGR  Longitude  \\\n",
       "0  201501BS70001               525130.0                180050.0  -0.198465   \n",
       "1  201501BS70002               526530.0                178560.0  -0.178838   \n",
       "2  201501BS70004               524610.0                181080.0  -0.205590   \n",
       "3  201501BS70005               524420.0                181080.0  -0.208327   \n",
       "4  201501BS70008               524630.0                179040.0  -0.206022   \n",
       "\n",
       "    Latitude  Police_Force  Accident_Severity  Number_of_Vehicles  \\\n",
       "0  51.505538             1                  3                   1   \n",
       "1  51.491836             1                  3                   1   \n",
       "2  51.514910             1                  3                   1   \n",
       "3  51.514952             1                  3                   1   \n",
       "4  51.496572             1                  2                   2   \n",
       "\n",
       "   Number_of_Casualties        Date            ...              \\\n",
       "0                     1  12/01/2015            ...               \n",
       "1                     1  12/01/2015            ...               \n",
       "2                     1  12/01/2015            ...               \n",
       "3                     1  13/01/2015            ...               \n",
       "4                     1  09/01/2015            ...               \n",
       "\n",
       "   Pedestrian_Crossing-Human_Control Pedestrian_Crossing-Physical_Facilities  \\\n",
       "0                                  0                                       0   \n",
       "1                                  0                                       0   \n",
       "2                                  0                                       1   \n",
       "3                                  0                                       0   \n",
       "4                                  0                                       5   \n",
       "\n",
       "   Light_Conditions Weather_Conditions  Road_Surface_Conditions  \\\n",
       "0                 4                  1                        1   \n",
       "1                 1                  1                        1   \n",
       "2                 4                  2                        2   \n",
       "3                 1                  1                        2   \n",
       "4                 1                  2                        2   \n",
       "\n",
       "   Special_Conditions_at_Site  Carriageway_Hazards  Urban_or_Rural_Area  \\\n",
       "0                           0                    0                    1   \n",
       "1                           0                    0                    1   \n",
       "2                           0                    0                    1   \n",
       "3                           0                    0                    1   \n",
       "4                           0                    0                    1   \n",
       "\n",
       "   Did_Police_Officer_Attend_Scene_of_Accident  LSOA_of_Accident_Location  \n",
       "0                                            1                  E01002825  \n",
       "1                                            1                  E01002820  \n",
       "2                                            1                  E01002833  \n",
       "3                                            2                  E01002874  \n",
       "4                                            2                  E01002814  \n",
       "\n",
       "[5 rows x 32 columns]"
      ]
     },
     "execution_count": 4,
     "metadata": {},
     "output_type": "execute_result"
    }
   ],
   "source": [
    "accidents.head()"
   ]
  },
  {
   "cell_type": "code",
   "execution_count": 5,
   "metadata": {
    "collapsed": false
   },
   "outputs": [
    {
     "data": {
      "text/html": [
       "<div>\n",
       "<table border=\"1\" class=\"dataframe\">\n",
       "  <thead>\n",
       "    <tr style=\"text-align: right;\">\n",
       "      <th></th>\n",
       "      <th>Accident_Index</th>\n",
       "      <th>Vehicle_Reference</th>\n",
       "      <th>Casualty_Reference</th>\n",
       "      <th>Casualty_Class</th>\n",
       "      <th>Sex_of_Casualty</th>\n",
       "      <th>Age_of_Casualty</th>\n",
       "      <th>Age_Band_of_Casualty</th>\n",
       "      <th>Casualty_Severity</th>\n",
       "      <th>Pedestrian_Location</th>\n",
       "      <th>Pedestrian_Movement</th>\n",
       "      <th>Car_Passenger</th>\n",
       "      <th>Bus_or_Coach_Passenger</th>\n",
       "      <th>Pedestrian_Road_Maintenance_Worker</th>\n",
       "      <th>Casualty_Type</th>\n",
       "      <th>Casualty_Home_Area_Type</th>\n",
       "      <th>Casualty_IMD_Decile</th>\n",
       "    </tr>\n",
       "  </thead>\n",
       "  <tbody>\n",
       "    <tr>\n",
       "      <th>0</th>\n",
       "      <td>201597UA71710</td>\n",
       "      <td>2</td>\n",
       "      <td>1</td>\n",
       "      <td>1</td>\n",
       "      <td>2</td>\n",
       "      <td>75</td>\n",
       "      <td>10</td>\n",
       "      <td>3</td>\n",
       "      <td>0</td>\n",
       "      <td>0</td>\n",
       "      <td>0</td>\n",
       "      <td>0</td>\n",
       "      <td>0</td>\n",
       "      <td>9</td>\n",
       "      <td>3</td>\n",
       "      <td>-1</td>\n",
       "    </tr>\n",
       "    <tr>\n",
       "      <th>1</th>\n",
       "      <td>201597UA71810</td>\n",
       "      <td>2</td>\n",
       "      <td>1</td>\n",
       "      <td>2</td>\n",
       "      <td>2</td>\n",
       "      <td>63</td>\n",
       "      <td>9</td>\n",
       "      <td>2</td>\n",
       "      <td>0</td>\n",
       "      <td>0</td>\n",
       "      <td>0</td>\n",
       "      <td>4</td>\n",
       "      <td>0</td>\n",
       "      <td>11</td>\n",
       "      <td>3</td>\n",
       "      <td>-1</td>\n",
       "    </tr>\n",
       "    <tr>\n",
       "      <th>2</th>\n",
       "      <td>201597UA71810</td>\n",
       "      <td>2</td>\n",
       "      <td>2</td>\n",
       "      <td>2</td>\n",
       "      <td>2</td>\n",
       "      <td>75</td>\n",
       "      <td>10</td>\n",
       "      <td>2</td>\n",
       "      <td>0</td>\n",
       "      <td>0</td>\n",
       "      <td>0</td>\n",
       "      <td>4</td>\n",
       "      <td>0</td>\n",
       "      <td>11</td>\n",
       "      <td>1</td>\n",
       "      <td>-1</td>\n",
       "    </tr>\n",
       "    <tr>\n",
       "      <th>3</th>\n",
       "      <td>201597UA71810</td>\n",
       "      <td>2</td>\n",
       "      <td>3</td>\n",
       "      <td>2</td>\n",
       "      <td>1</td>\n",
       "      <td>78</td>\n",
       "      <td>11</td>\n",
       "      <td>2</td>\n",
       "      <td>0</td>\n",
       "      <td>0</td>\n",
       "      <td>0</td>\n",
       "      <td>4</td>\n",
       "      <td>0</td>\n",
       "      <td>11</td>\n",
       "      <td>1</td>\n",
       "      <td>-1</td>\n",
       "    </tr>\n",
       "    <tr>\n",
       "      <th>4</th>\n",
       "      <td>201597UA71810</td>\n",
       "      <td>2</td>\n",
       "      <td>4</td>\n",
       "      <td>2</td>\n",
       "      <td>1</td>\n",
       "      <td>67</td>\n",
       "      <td>10</td>\n",
       "      <td>2</td>\n",
       "      <td>0</td>\n",
       "      <td>0</td>\n",
       "      <td>0</td>\n",
       "      <td>4</td>\n",
       "      <td>0</td>\n",
       "      <td>11</td>\n",
       "      <td>1</td>\n",
       "      <td>-1</td>\n",
       "    </tr>\n",
       "  </tbody>\n",
       "</table>\n",
       "</div>"
      ],
      "text/plain": [
       "  Accident_Index  Vehicle_Reference  Casualty_Reference  Casualty_Class  \\\n",
       "0  201597UA71710                  2                   1               1   \n",
       "1  201597UA71810                  2                   1               2   \n",
       "2  201597UA71810                  2                   2               2   \n",
       "3  201597UA71810                  2                   3               2   \n",
       "4  201597UA71810                  2                   4               2   \n",
       "\n",
       "   Sex_of_Casualty  Age_of_Casualty  Age_Band_of_Casualty  Casualty_Severity  \\\n",
       "0                2               75                    10                  3   \n",
       "1                2               63                     9                  2   \n",
       "2                2               75                    10                  2   \n",
       "3                1               78                    11                  2   \n",
       "4                1               67                    10                  2   \n",
       "\n",
       "   Pedestrian_Location  Pedestrian_Movement  Car_Passenger  \\\n",
       "0                    0                    0              0   \n",
       "1                    0                    0              0   \n",
       "2                    0                    0              0   \n",
       "3                    0                    0              0   \n",
       "4                    0                    0              0   \n",
       "\n",
       "   Bus_or_Coach_Passenger  Pedestrian_Road_Maintenance_Worker  Casualty_Type  \\\n",
       "0                       0                                   0              9   \n",
       "1                       4                                   0             11   \n",
       "2                       4                                   0             11   \n",
       "3                       4                                   0             11   \n",
       "4                       4                                   0             11   \n",
       "\n",
       "   Casualty_Home_Area_Type  Casualty_IMD_Decile  \n",
       "0                        3                   -1  \n",
       "1                        3                   -1  \n",
       "2                        1                   -1  \n",
       "3                        1                   -1  \n",
       "4                        1                   -1  "
      ]
     },
     "execution_count": 5,
     "metadata": {},
     "output_type": "execute_result"
    }
   ],
   "source": [
    "casualties.head()"
   ]
  },
  {
   "cell_type": "code",
   "execution_count": 6,
   "metadata": {
    "collapsed": false
   },
   "outputs": [
    {
     "data": {
      "text/html": [
       "<div>\n",
       "<table border=\"1\" class=\"dataframe\">\n",
       "  <thead>\n",
       "    <tr style=\"text-align: right;\">\n",
       "      <th></th>\n",
       "      <th>Accident_Index</th>\n",
       "      <th>Vehicle_Reference</th>\n",
       "      <th>Vehicle_Type</th>\n",
       "      <th>Towing_and_Articulation</th>\n",
       "      <th>Vehicle_Manoeuvre</th>\n",
       "      <th>Vehicle_Location-Restricted_Lane</th>\n",
       "      <th>Junction_Location</th>\n",
       "      <th>Skidding_and_Overturning</th>\n",
       "      <th>Hit_Object_in_Carriageway</th>\n",
       "      <th>Vehicle_Leaving_Carriageway</th>\n",
       "      <th>...</th>\n",
       "      <th>Journey_Purpose_of_Driver</th>\n",
       "      <th>Sex_of_Driver</th>\n",
       "      <th>Age_of_Driver</th>\n",
       "      <th>Age_Band_of_Driver</th>\n",
       "      <th>Engine_Capacity_(CC)</th>\n",
       "      <th>Propulsion_Code</th>\n",
       "      <th>Age_of_Vehicle</th>\n",
       "      <th>Driver_IMD_Decile</th>\n",
       "      <th>Driver_Home_Area_Type</th>\n",
       "      <th>Vehicle_IMD_Decile</th>\n",
       "    </tr>\n",
       "  </thead>\n",
       "  <tbody>\n",
       "    <tr>\n",
       "      <th>0</th>\n",
       "      <td>201506E098757</td>\n",
       "      <td>2</td>\n",
       "      <td>9</td>\n",
       "      <td>0</td>\n",
       "      <td>18</td>\n",
       "      <td>0</td>\n",
       "      <td>8</td>\n",
       "      <td>0</td>\n",
       "      <td>0</td>\n",
       "      <td>0</td>\n",
       "      <td>...</td>\n",
       "      <td>6</td>\n",
       "      <td>1</td>\n",
       "      <td>45</td>\n",
       "      <td>7</td>\n",
       "      <td>1794</td>\n",
       "      <td>1</td>\n",
       "      <td>11</td>\n",
       "      <td>-1</td>\n",
       "      <td>1</td>\n",
       "      <td>-1</td>\n",
       "    </tr>\n",
       "    <tr>\n",
       "      <th>1</th>\n",
       "      <td>201506E098766</td>\n",
       "      <td>1</td>\n",
       "      <td>9</td>\n",
       "      <td>0</td>\n",
       "      <td>9</td>\n",
       "      <td>0</td>\n",
       "      <td>8</td>\n",
       "      <td>0</td>\n",
       "      <td>0</td>\n",
       "      <td>0</td>\n",
       "      <td>...</td>\n",
       "      <td>6</td>\n",
       "      <td>2</td>\n",
       "      <td>25</td>\n",
       "      <td>5</td>\n",
       "      <td>1582</td>\n",
       "      <td>2</td>\n",
       "      <td>1</td>\n",
       "      <td>-1</td>\n",
       "      <td>-1</td>\n",
       "      <td>-1</td>\n",
       "    </tr>\n",
       "    <tr>\n",
       "      <th>2</th>\n",
       "      <td>201506E098766</td>\n",
       "      <td>2</td>\n",
       "      <td>9</td>\n",
       "      <td>0</td>\n",
       "      <td>18</td>\n",
       "      <td>0</td>\n",
       "      <td>8</td>\n",
       "      <td>0</td>\n",
       "      <td>0</td>\n",
       "      <td>0</td>\n",
       "      <td>...</td>\n",
       "      <td>6</td>\n",
       "      <td>1</td>\n",
       "      <td>51</td>\n",
       "      <td>8</td>\n",
       "      <td>-1</td>\n",
       "      <td>-1</td>\n",
       "      <td>-1</td>\n",
       "      <td>-1</td>\n",
       "      <td>1</td>\n",
       "      <td>-1</td>\n",
       "    </tr>\n",
       "    <tr>\n",
       "      <th>3</th>\n",
       "      <td>201506E098777</td>\n",
       "      <td>1</td>\n",
       "      <td>20</td>\n",
       "      <td>0</td>\n",
       "      <td>4</td>\n",
       "      <td>0</td>\n",
       "      <td>0</td>\n",
       "      <td>0</td>\n",
       "      <td>0</td>\n",
       "      <td>0</td>\n",
       "      <td>...</td>\n",
       "      <td>1</td>\n",
       "      <td>1</td>\n",
       "      <td>50</td>\n",
       "      <td>8</td>\n",
       "      <td>4462</td>\n",
       "      <td>2</td>\n",
       "      <td>1</td>\n",
       "      <td>-1</td>\n",
       "      <td>1</td>\n",
       "      <td>-1</td>\n",
       "    </tr>\n",
       "    <tr>\n",
       "      <th>4</th>\n",
       "      <td>201506E098780</td>\n",
       "      <td>1</td>\n",
       "      <td>9</td>\n",
       "      <td>0</td>\n",
       "      <td>15</td>\n",
       "      <td>0</td>\n",
       "      <td>1</td>\n",
       "      <td>0</td>\n",
       "      <td>0</td>\n",
       "      <td>0</td>\n",
       "      <td>...</td>\n",
       "      <td>6</td>\n",
       "      <td>1</td>\n",
       "      <td>27</td>\n",
       "      <td>6</td>\n",
       "      <td>1598</td>\n",
       "      <td>2</td>\n",
       "      <td>-1</td>\n",
       "      <td>-1</td>\n",
       "      <td>1</td>\n",
       "      <td>-1</td>\n",
       "    </tr>\n",
       "  </tbody>\n",
       "</table>\n",
       "<p>5 rows × 23 columns</p>\n",
       "</div>"
      ],
      "text/plain": [
       "  Accident_Index  Vehicle_Reference  Vehicle_Type  Towing_and_Articulation  \\\n",
       "0  201506E098757                  2             9                        0   \n",
       "1  201506E098766                  1             9                        0   \n",
       "2  201506E098766                  2             9                        0   \n",
       "3  201506E098777                  1            20                        0   \n",
       "4  201506E098780                  1             9                        0   \n",
       "\n",
       "   Vehicle_Manoeuvre  Vehicle_Location-Restricted_Lane  Junction_Location  \\\n",
       "0                 18                                 0                  8   \n",
       "1                  9                                 0                  8   \n",
       "2                 18                                 0                  8   \n",
       "3                  4                                 0                  0   \n",
       "4                 15                                 0                  1   \n",
       "\n",
       "   Skidding_and_Overturning  Hit_Object_in_Carriageway  \\\n",
       "0                         0                          0   \n",
       "1                         0                          0   \n",
       "2                         0                          0   \n",
       "3                         0                          0   \n",
       "4                         0                          0   \n",
       "\n",
       "   Vehicle_Leaving_Carriageway         ...          Journey_Purpose_of_Driver  \\\n",
       "0                            0         ...                                  6   \n",
       "1                            0         ...                                  6   \n",
       "2                            0         ...                                  6   \n",
       "3                            0         ...                                  1   \n",
       "4                            0         ...                                  6   \n",
       "\n",
       "   Sex_of_Driver  Age_of_Driver  Age_Band_of_Driver  Engine_Capacity_(CC)  \\\n",
       "0              1             45                   7                  1794   \n",
       "1              2             25                   5                  1582   \n",
       "2              1             51                   8                    -1   \n",
       "3              1             50                   8                  4462   \n",
       "4              1             27                   6                  1598   \n",
       "\n",
       "   Propulsion_Code  Age_of_Vehicle  Driver_IMD_Decile  Driver_Home_Area_Type  \\\n",
       "0                1              11                 -1                      1   \n",
       "1                2               1                 -1                     -1   \n",
       "2               -1              -1                 -1                      1   \n",
       "3                2               1                 -1                      1   \n",
       "4                2              -1                 -1                      1   \n",
       "\n",
       "   Vehicle_IMD_Decile  \n",
       "0                  -1  \n",
       "1                  -1  \n",
       "2                  -1  \n",
       "3                  -1  \n",
       "4                  -1  \n",
       "\n",
       "[5 rows x 23 columns]"
      ]
     },
     "execution_count": 6,
     "metadata": {},
     "output_type": "execute_result"
    }
   ],
   "source": [
    "vehicles.head()"
   ]
  },
  {
   "cell_type": "code",
   "execution_count": 7,
   "metadata": {
    "collapsed": false
   },
   "outputs": [
    {
     "name": "stdout",
     "output_type": "stream",
     "text": [
      "(140056, 32)\n",
      "(186189, 16)\n",
      "(257845, 23)\n"
     ]
    }
   ],
   "source": [
    "print accidents.shape\n",
    "print casualties.shape\n",
    "print vehicles.shape"
   ]
  },
  {
   "cell_type": "code",
   "execution_count": 8,
   "metadata": {
    "collapsed": false
   },
   "outputs": [
    {
     "name": "stdout",
     "output_type": "stream",
     "text": [
      "140056\n",
      "140056\n",
      "140056\n"
     ]
    }
   ],
   "source": [
    "print accidents['Accident_Index'].nunique()\n",
    "print casualties['Accident_Index'].nunique()\n",
    "print vehicles['Accident_Index'].nunique()"
   ]
  },
  {
   "cell_type": "markdown",
   "metadata": {},
   "source": [
    "One row in the 'accidents' table represents an accident.<br/>\n",
    "One row in the 'casualties' table is for one person in an accident.<br/>\n",
    "One row in the 'vehicles' table is for one vehicle in an accident.\n",
    "\n",
    "More vehicles than casualties means that there must be vehicles with no casualties in the accident (eg A_I = 201506E098766)\n",
    "\n",
    "Vehicles and Casualties can be linked by both the Accident_Index and the Vehicle_Reference to see who was in which vehicle in the accident. Further details of the crash can be found in the accidents table by linking with the unique Accident_Index variable. "
   ]
  },
  {
   "cell_type": "markdown",
   "metadata": {},
   "source": [
    "### Join the datasets to form one coherent dataset"
   ]
  },
  {
   "cell_type": "code",
   "execution_count": 9,
   "metadata": {
    "collapsed": false
   },
   "outputs": [
    {
     "data": {
      "text/plain": [
       "(285509, 37)"
      ]
     },
     "execution_count": 9,
     "metadata": {},
     "output_type": "execute_result"
    }
   ],
   "source": [
    "cas_and_veh = pd.merge(left=casualties, right=vehicles,\n",
    "                      on=['Accident_Index', 'Vehicle_Reference'],\n",
    "                     how='outer', copy=False)\n",
    "cas_and_veh.shape"
   ]
  },
  {
   "cell_type": "markdown",
   "metadata": {},
   "source": [
    "16 columns from casualties data + 23 columns from vehicles data - 2 duplicate columns = 37 columns"
   ]
  },
  {
   "cell_type": "code",
   "execution_count": 10,
   "metadata": {
    "collapsed": false
   },
   "outputs": [
    {
     "data": {
      "text/plain": [
       "Index([u'Accident_Index', u'Location_Easting_OSGR', u'Location_Northing_OSGR',\n",
       "       u'Longitude', u'Latitude', u'Police_Force', u'Accident_Severity',\n",
       "       u'Number_of_Vehicles', u'Number_of_Casualties', u'Date', u'Day_of_Week',\n",
       "       u'Time', u'Local_Authority_(District)', u'Local_Authority_(Highway)',\n",
       "       u'1st_Road_Class', u'1st_Road_Number', u'Road_Type', u'Speed_limit',\n",
       "       u'Junction_Detail', u'Junction_Control', u'2nd_Road_Class',\n",
       "       u'2nd_Road_Number', u'Pedestrian_Crossing-Human_Control',\n",
       "       u'Pedestrian_Crossing-Physical_Facilities', u'Light_Conditions',\n",
       "       u'Weather_Conditions', u'Road_Surface_Conditions',\n",
       "       u'Special_Conditions_at_Site', u'Carriageway_Hazards',\n",
       "       u'Urban_or_Rural_Area', u'Did_Police_Officer_Attend_Scene_of_Accident',\n",
       "       u'LSOA_of_Accident_Location'],\n",
       "      dtype='object')"
      ]
     },
     "execution_count": 10,
     "metadata": {},
     "output_type": "execute_result"
    }
   ],
   "source": [
    "accidents.columns"
   ]
  },
  {
   "cell_type": "code",
   "execution_count": 11,
   "metadata": {
    "collapsed": false
   },
   "outputs": [
    {
     "data": {
      "text/plain": [
       "Index([u'Accident_Index', u'Vehicle_Reference', u'Casualty_Reference',\n",
       "       u'Casualty_Class', u'Sex_of_Casualty', u'Age_of_Casualty',\n",
       "       u'Age_Band_of_Casualty', u'Casualty_Severity', u'Pedestrian_Location',\n",
       "       u'Pedestrian_Movement', u'Car_Passenger', u'Bus_or_Coach_Passenger',\n",
       "       u'Pedestrian_Road_Maintenance_Worker', u'Casualty_Type',\n",
       "       u'Casualty_Home_Area_Type', u'Casualty_IMD_Decile', u'Vehicle_Type',\n",
       "       u'Towing_and_Articulation', u'Vehicle_Manoeuvre',\n",
       "       u'Vehicle_Location-Restricted_Lane', u'Junction_Location',\n",
       "       u'Skidding_and_Overturning', u'Hit_Object_in_Carriageway',\n",
       "       u'Vehicle_Leaving_Carriageway', u'Hit_Object_off_Carriageway',\n",
       "       u'1st_Point_of_Impact', u'Was_Vehicle_Left_Hand_Drive?',\n",
       "       u'Journey_Purpose_of_Driver', u'Sex_of_Driver', u'Age_of_Driver',\n",
       "       u'Age_Band_of_Driver', u'Engine_Capacity_(CC)', u'Propulsion_Code',\n",
       "       u'Age_of_Vehicle', u'Driver_IMD_Decile', u'Driver_Home_Area_Type',\n",
       "       u'Vehicle_IMD_Decile'],\n",
       "      dtype='object')"
      ]
     },
     "execution_count": 11,
     "metadata": {},
     "output_type": "execute_result"
    }
   ],
   "source": [
    "cas_and_veh.columns"
   ]
  },
  {
   "cell_type": "code",
   "execution_count": 12,
   "metadata": {
    "collapsed": false
   },
   "outputs": [],
   "source": [
    "all_merged = pd.merge(left=accidents, right=cas_and_veh, how='outer',\n",
    "             on='Accident_Index', copy=False)"
   ]
  },
  {
   "cell_type": "code",
   "execution_count": 13,
   "metadata": {
    "collapsed": false
   },
   "outputs": [
    {
     "data": {
      "text/plain": [
       "140056"
      ]
     },
     "execution_count": 13,
     "metadata": {},
     "output_type": "execute_result"
    }
   ],
   "source": [
    "all_merged['Accident_Index'].nunique()"
   ]
  },
  {
   "cell_type": "code",
   "execution_count": 14,
   "metadata": {
    "collapsed": false
   },
   "outputs": [
    {
     "data": {
      "text/plain": [
       "Index([u'Accident_Index', u'Location_Easting_OSGR', u'Location_Northing_OSGR',\n",
       "       u'Longitude', u'Latitude', u'Police_Force', u'Accident_Severity',\n",
       "       u'Number_of_Vehicles', u'Number_of_Casualties', u'Date', u'Day_of_Week',\n",
       "       u'Time', u'Local_Authority_(District)', u'Local_Authority_(Highway)',\n",
       "       u'1st_Road_Class', u'1st_Road_Number', u'Road_Type', u'Speed_limit',\n",
       "       u'Junction_Detail', u'Junction_Control', u'2nd_Road_Class',\n",
       "       u'2nd_Road_Number', u'Pedestrian_Crossing-Human_Control',\n",
       "       u'Pedestrian_Crossing-Physical_Facilities', u'Light_Conditions',\n",
       "       u'Weather_Conditions', u'Road_Surface_Conditions',\n",
       "       u'Special_Conditions_at_Site', u'Carriageway_Hazards',\n",
       "       u'Urban_or_Rural_Area', u'Did_Police_Officer_Attend_Scene_of_Accident',\n",
       "       u'LSOA_of_Accident_Location', u'Vehicle_Reference',\n",
       "       u'Casualty_Reference', u'Casualty_Class', u'Sex_of_Casualty',\n",
       "       u'Age_of_Casualty', u'Age_Band_of_Casualty', u'Casualty_Severity',\n",
       "       u'Pedestrian_Location', u'Pedestrian_Movement', u'Car_Passenger',\n",
       "       u'Bus_or_Coach_Passenger', u'Pedestrian_Road_Maintenance_Worker',\n",
       "       u'Casualty_Type', u'Casualty_Home_Area_Type', u'Casualty_IMD_Decile',\n",
       "       u'Vehicle_Type', u'Towing_and_Articulation', u'Vehicle_Manoeuvre',\n",
       "       u'Vehicle_Location-Restricted_Lane', u'Junction_Location',\n",
       "       u'Skidding_and_Overturning', u'Hit_Object_in_Carriageway',\n",
       "       u'Vehicle_Leaving_Carriageway', u'Hit_Object_off_Carriageway',\n",
       "       u'1st_Point_of_Impact', u'Was_Vehicle_Left_Hand_Drive?',\n",
       "       u'Journey_Purpose_of_Driver', u'Sex_of_Driver', u'Age_of_Driver',\n",
       "       u'Age_Band_of_Driver', u'Engine_Capacity_(CC)', u'Propulsion_Code',\n",
       "       u'Age_of_Vehicle', u'Driver_IMD_Decile', u'Driver_Home_Area_Type',\n",
       "       u'Vehicle_IMD_Decile'],\n",
       "      dtype='object')"
      ]
     },
     "execution_count": 14,
     "metadata": {},
     "output_type": "execute_result"
    }
   ],
   "source": [
    "all_merged.columns"
   ]
  },
  {
   "cell_type": "markdown",
   "metadata": {
    "collapsed": true
   },
   "source": [
    "Now, each record in df represents a 'player' in a crash (either a person and their vehicle details, a person who was not associated with a vehicle in the accident, or a vehicle whose driver/passenger was not injured)"
   ]
  },
  {
   "cell_type": "code",
   "execution_count": 15,
   "metadata": {
    "collapsed": true
   },
   "outputs": [],
   "source": [
    "all_merged.to_csv('../../data_transformed/20170217_merged_dataset.csv')"
   ]
  },
  {
   "cell_type": "markdown",
   "metadata": {},
   "source": [
    "## Analyse, identify patterns, explore the data"
   ]
  },
  {
   "cell_type": "code",
   "execution_count": 16,
   "metadata": {
    "collapsed": false
   },
   "outputs": [
    {
     "name": "stderr",
     "output_type": "stream",
     "text": [
      "C:\\Users\\IBM_ADMIN\\Anaconda2\\lib\\site-packages\\IPython\\core\\interactiveshell.py:2717: DtypeWarning: Columns (32) have mixed types. Specify dtype option on import or set low_memory=False.\n",
      "  interactivity=interactivity, compiler=compiler, result=result)\n"
     ]
    }
   ],
   "source": [
    "df = pd.read_csv('../../data_transformed/20170217_merged_dataset.csv',\n",
    "                 dtype={'Accident_Index':str})"
   ]
  },
  {
   "cell_type": "code",
   "execution_count": 17,
   "metadata": {
    "collapsed": false
   },
   "outputs": [
    {
     "data": {
      "text/plain": [
       "Index([u'Accident_Index', u'Location_Easting_OSGR', u'Location_Northing_OSGR',\n",
       "       u'Longitude', u'Latitude', u'Police_Force', u'Accident_Severity',\n",
       "       u'Number_of_Vehicles', u'Number_of_Casualties', u'Date', u'Day_of_Week',\n",
       "       u'Time', u'Local_Authority_(District)', u'Local_Authority_(Highway)',\n",
       "       u'1st_Road_Class', u'1st_Road_Number', u'Road_Type', u'Speed_limit',\n",
       "       u'Junction_Detail', u'Junction_Control', u'2nd_Road_Class',\n",
       "       u'2nd_Road_Number', u'Pedestrian_Crossing-Human_Control',\n",
       "       u'Pedestrian_Crossing-Physical_Facilities', u'Light_Conditions',\n",
       "       u'Weather_Conditions', u'Road_Surface_Conditions',\n",
       "       u'Special_Conditions_at_Site', u'Carriageway_Hazards',\n",
       "       u'Urban_or_Rural_Area', u'Did_Police_Officer_Attend_Scene_of_Accident',\n",
       "       u'LSOA_of_Accident_Location', u'Vehicle_Reference',\n",
       "       u'Casualty_Reference', u'Casualty_Class', u'Sex_of_Casualty',\n",
       "       u'Age_of_Casualty', u'Age_Band_of_Casualty', u'Casualty_Severity',\n",
       "       u'Pedestrian_Location', u'Pedestrian_Movement', u'Car_Passenger',\n",
       "       u'Bus_or_Coach_Passenger', u'Pedestrian_Road_Maintenance_Worker',\n",
       "       u'Casualty_Type', u'Casualty_Home_Area_Type', u'Casualty_IMD_Decile',\n",
       "       u'Vehicle_Type', u'Towing_and_Articulation', u'Vehicle_Manoeuvre',\n",
       "       u'Vehicle_Location-Restricted_Lane', u'Junction_Location',\n",
       "       u'Skidding_and_Overturning', u'Hit_Object_in_Carriageway',\n",
       "       u'Vehicle_Leaving_Carriageway', u'Hit_Object_off_Carriageway',\n",
       "       u'1st_Point_of_Impact', u'Was_Vehicle_Left_Hand_Drive?',\n",
       "       u'Journey_Purpose_of_Driver', u'Sex_of_Driver', u'Age_of_Driver',\n",
       "       u'Age_Band_of_Driver', u'Engine_Capacity_(CC)', u'Propulsion_Code',\n",
       "       u'Age_of_Vehicle', u'Driver_IMD_Decile', u'Driver_Home_Area_Type',\n",
       "       u'Vehicle_IMD_Decile'],\n",
       "      dtype='object')"
      ]
     },
     "execution_count": 17,
     "metadata": {},
     "output_type": "execute_result"
    }
   ],
   "source": [
    "df.drop('Unnamed: 0', axis=1, inplace=True)\n",
    "df.columns"
   ]
  },
  {
   "cell_type": "markdown",
   "metadata": {},
   "source": [
    "Let's start with the first problem posed by JStone Insurance - enhanced risk pricing. We want to identify the most serious accidents."
   ]
  },
  {
   "cell_type": "code",
   "execution_count": 18,
   "metadata": {
    "collapsed": false,
    "scrolled": false
   },
   "outputs": [
    {
     "data": {
      "text/plain": [
       "<matplotlib.axes._subplots.AxesSubplot at 0xafaaef0>"
      ]
     },
     "execution_count": 18,
     "metadata": {},
     "output_type": "execute_result"
    },
    {
     "data": {
      "image/png": "[encoded data removed]",
      "text/plain": [
       "<matplotlib.figure.Figure at 0xafaab10>"
      ]
     },
     "metadata": {},
     "output_type": "display_data"
    }
   ],
   "source": [
    "df['Accident_Severity'].hist()\n",
    "# 1 - Fatal, 2 - Serious, 3 - Slight"
   ]
  },
  {
   "cell_type": "markdown",
   "metadata": {},
   "source": [
    "Clearly, most accidents are 'slight'. Where the accident severity currently has three categories, we want a target variable that is either 1 or 0. Therefore, for our initial purposes, we shall classify accidents as a worth identifying as those that are either fatal or serious (bad accidents), with the slight accidents being not worth identifying (not bad accidents)."
   ]
  },
  {
   "cell_type": "code",
   "execution_count": 19,
   "metadata": {
    "collapsed": false
   },
   "outputs": [
    {
     "data": {
      "text/html": [
       "<div>\n",
       "<table border=\"1\" class=\"dataframe\">\n",
       "  <thead>\n",
       "    <tr style=\"text-align: right;\">\n",
       "      <th></th>\n",
       "      <th>Accident_Severity</th>\n",
       "      <th>Bad_Accident</th>\n",
       "    </tr>\n",
       "  </thead>\n",
       "  <tbody>\n",
       "    <tr>\n",
       "      <th>0</th>\n",
       "      <td>3</td>\n",
       "      <td>0</td>\n",
       "    </tr>\n",
       "    <tr>\n",
       "      <th>1</th>\n",
       "      <td>3</td>\n",
       "      <td>0</td>\n",
       "    </tr>\n",
       "    <tr>\n",
       "      <th>2</th>\n",
       "      <td>3</td>\n",
       "      <td>0</td>\n",
       "    </tr>\n",
       "    <tr>\n",
       "      <th>3</th>\n",
       "      <td>3</td>\n",
       "      <td>0</td>\n",
       "    </tr>\n",
       "    <tr>\n",
       "      <th>4</th>\n",
       "      <td>2</td>\n",
       "      <td>1</td>\n",
       "    </tr>\n",
       "  </tbody>\n",
       "</table>\n",
       "</div>"
      ],
      "text/plain": [
       "   Accident_Severity  Bad_Accident\n",
       "0                  3             0\n",
       "1                  3             0\n",
       "2                  3             0\n",
       "3                  3             0\n",
       "4                  2             1"
      ]
     },
     "execution_count": 19,
     "metadata": {},
     "output_type": "execute_result"
    }
   ],
   "source": [
    "df['Bad_Accident'] = np.where(df['Accident_Severity'] < 3, 1, 0)\n",
    "df[['Accident_Severity', 'Bad_Accident']].head()"
   ]
  },
  {
   "cell_type": "code",
   "execution_count": 20,
   "metadata": {
    "collapsed": false
   },
   "outputs": [
    {
     "data": {
      "text/plain": [
       "0.15017039743055385"
      ]
     },
     "execution_count": 20,
     "metadata": {},
     "output_type": "execute_result"
    }
   ],
   "source": [
    "df['Bad_Accident'].mean()"
   ]
  },
  {
   "cell_type": "markdown",
   "metadata": {},
   "source": [
    "15% of the accidents are 'bad' accidents. Our job now will be to identify what these accidents have in common."
   ]
  },
  {
   "cell_type": "code",
   "execution_count": 21,
   "metadata": {
    "collapsed": false
   },
   "outputs": [
    {
     "data": {
      "text/plain": [
       "[('Casualty_Severity = 2.0', 1.0),\n",
       " ('Casualty_Severity = 1.0', 1.0),\n",
       " ('Propulsion_Code = 4', 1.0),\n",
       " ('Vehicle_Type = 23', 0.55555555555555558),\n",
       " ('Casualty_Type = 23.0', 0.55555555555555558),\n",
       " ('Local_Authority_(Highway) = S12000020', 0.42553191489361702),\n",
       " ('Local_Authority_(Highway) = S12000034', 0.41590214067278286),\n",
       " ('Casualty_Type = 5.0', 0.3894599681482554),\n",
       " ('Vehicle_Type = 5', 0.38253498385360601),\n",
       " ('Police_Force = 92', 0.37988362427265171),\n",
       " ('Casualty_Type = 17.0', 0.36046511627906974),\n",
       " ('Casualty_Type = 97.0', 0.33333333333333331),\n",
       " ('Local_Authority_(Highway) = S12000033', 0.30637254901960786),\n",
       " ('Casualty_Type = 4.0', 0.30282375851996107),\n",
       " ('Casualty_Type = 90.0', 0.29999999999999999),\n",
       " ('Vehicle_Type = 4', 0.2988606485539001),\n",
       " ('Casualty_Type = 21.0', 0.29797979797979796),\n",
       " ('Local_Authority_(Highway) = E06000017', 0.29608938547486036),\n",
       " ('Vehicle_Type = 97', 0.29537366548042704),\n",
       " ('Age_Band_of_Casualty = 11.0', 0.29076125052572549),\n",
       " ('Local_Authority_(Highway) = S12000021', 0.29076086956521741),\n",
       " ('Local_Authority_(Highway) = W06000023', 0.28904428904428903),\n",
       " ('Local_Authority_(Highway) = W06000001', 0.28717948717948716),\n",
       " ('Local_Authority_(Highway) = S12000030', 0.28400954653937949),\n",
       " ('Local_Authority_(Highway) = S12000041', 0.28286852589641437),\n",
       " ('Local_Authority_(Highway) = S12000026', 0.27763496143958871),\n",
       " ('Casualty_Type = 22.0', 0.27586206896551724),\n",
       " ('Vehicle_Type = 17', 0.27504911591355602),\n",
       " ('Light_Conditions = 6', 0.27113416514790412),\n",
       " ('Local_Authority_(Highway) = S12000035', 0.27033492822966509),\n",
       " ('Local_Authority_(Highway) = E10000013', 0.26961651917404128),\n",
       " ('Police_Force = 53', 0.26961651917404128),\n",
       " ('Local_Authority_(Highway) = S12000027', 0.26829268292682928),\n",
       " ('Local_Authority_(Highway) = S12000024', 0.26647564469914042),\n",
       " ('Casualty_Type = 10.0', 0.26143790849673204),\n",
       " ('Local_Authority_(Highway) = W06000008', 0.26010101010101011),\n",
       " ('Casualty_Type = 20.0', 0.25547445255474455),\n",
       " ('Local_Authority_(Highway) = S12000028', 0.25136612021857924),\n",
       " ('Speed_limit = 60', 0.25129031445907501),\n",
       " ('Did_Police_Officer_Attend_Scene_of_Accident = -1', 0.25),\n",
       " ('Local_Authority_(Highway) = E08000015', 0.24901185770750989),\n",
       " ('Vehicle_Type = 22', 0.24774774774774774),\n",
       " ('Local_Authority_(Highway) = E08000010', 0.24665391969407266),\n",
       " ('Police_Force = 63', 0.24244604316546764),\n",
       " ('Weather_Conditions = 7', 0.24074074074074073),\n",
       " ('Local_Authority_(Highway) = W06000014', 0.24060150375939848),\n",
       " ('Local_Authority_(Highway) = W06000006', 0.23880597014925373),\n",
       " ('Local_Authority_(Highway) = E06000046', 0.23817567567567569),\n",
       " ('Local_Authority_(Highway) = E10000009', 0.23764822134387351),\n",
       " ('Local_Authority_(Highway) = E10000023', 0.23609022556390977),\n",
       " ('Road_Surface_Conditions = 5', 0.23442136498516319),\n",
       " ('Police_Force = 93', 0.23389021479713604),\n",
       " ('Casualty_Type = 0.0', 0.23245085407921534),\n",
       " ('Casualty_Class = 3.0', 0.23245085407921534),\n",
       " ('Local_Authority_(Highway) = E06000051', 0.23218776194467727),\n",
       " ('Age_Band_of_Driver = 11', 0.23158033478318177),\n",
       " ('Age_Band_of_Casualty = 10.0', 0.2270183852917666),\n",
       " ('Local_Authority_(Highway) = E10000014', 0.22622834924001414),\n",
       " ('Local_Authority_(Highway) = W06000003', 0.22567287784679088),\n",
       " ('Local_Authority_(Highway) = W06000002', 0.22546972860125261),\n",
       " ('Local_Authority_(Highway) = W06000004', 0.22431865828092243),\n",
       " ('Local_Authority_(Highway) = E06000001', 0.22408026755852842),\n",
       " ('Local_Authority_(Highway) = E10000021', 0.22389153536093806),\n",
       " ('Police_Force = 34', 0.22389153536093806),\n",
       " ('Police_Force = 60', 0.22336896424622191),\n",
       " ('Vehicle_Type = 10', 0.22328767123287671),\n",
       " ('Police_Force = 96', 0.22005842259006816),\n",
       " ('Propulsion_Code = 5', 0.21951219512195122),\n",
       " ('Police_Force = 12', 0.21894336030461684),\n",
       " ('Casualty_Type = 3.0', 0.21875),\n",
       " ('Local_Authority_(Highway) = E08000005', 0.21663778162911612),\n",
       " ('Vehicle_Type = 3', 0.21572750210260724),\n",
       " ('Local_Authority_(Highway) = E08000014', 0.21564694082246741),\n",
       " ('Local_Authority_(Highway) = E10000002', 0.21502347417840376),\n",
       " ('Local_Authority_(Highway) = E06000047', 0.21424657534246574),\n",
       " ('Vehicle_Type = 21', 0.21366279069767441),\n",
       " ('Police_Force = 44', 0.21342391940962868),\n",
       " ('Local_Authority_(Highway) = W06000009', 0.21328671328671328),\n",
       " ('Local_Authority_(Highway) = E06000003', 0.21249999999999999),\n",
       " ('Local_Authority_(Highway) = E08000004', 0.21105527638190955),\n",
       " ('Local_Authority_(Highway) = W06000010', 0.21069182389937108),\n",
       " ('Local_Authority_(Highway) = E10000025', 0.20989461358313818),\n",
       " ('Light_Conditions = 5', 0.2097560975609756),\n",
       " ('Local_Authority_(Highway) = E10000011', 0.2094357666560408),\n",
       " ('Local_Authority_(Highway) = E06000050', 0.20885286783042395),\n",
       " ('Local_Authority_(Highway) = E06000019', 0.20859671302149177),\n",
       " ('Vehicle_Type = 90', 0.20711743772241992),\n",
       " ('Local_Authority_(Highway) = S12000017', 0.20571428571428571),\n",
       " ('Local_Authority_(Highway) = W06000013', 0.20370370370370369),\n",
       " ('Police_Force = 91', 0.20271940667490729),\n",
       " ('Urban_or_Rural_Area = 2', 0.20083856224339608),\n",
       " ('Local_Authority_(Highway) = E06000056', 0.20074906367041198),\n",
       " ('Local_Authority_(Highway) = E10000020', 0.19983112862369828),\n",
       " ('Police_Force = 36', 0.19983112862369828),\n",
       " ('Police_Force = 11', 0.19982158786797502),\n",
       " ('Police_Force = 55', 0.19939577039274925),\n",
       " ('Local_Authority_(Highway) = E06000049', 0.19910011248593926),\n",
       " ('Police_Force = 98', 0.19889502762430938),\n",
       " ('Local_Authority_(Highway) = S12000006', 0.19889502762430938),\n",
       " ('Local_Authority_(Highway) = E06000011', 0.19787765293383272),\n",
       " ('Local_Authority_(Highway) = E10000017', 0.19739800835207197),\n",
       " ('Police_Force = 47', 0.19616063548102383),\n",
       " ('Age_Band_of_Casualty = 9.0', 0.19615223755750733),\n",
       " ('Local_Authority_(Highway) = E10000032', 0.19418604651162791),\n",
       " ('Local_Authority_(Highway) = W06000024', 0.19323671497584541),\n",
       " ('Local_Authority_(Highway) = E08000033', 0.19240196078431374),\n",
       " ('Sex_of_Casualty = 1.0', 0.19156112022774457),\n",
       " ('Local_Authority_(Highway) = E06000045', 0.19051799824407376),\n",
       " ('Local_Authority_(Highway) = E10000003', 0.18998272884283246),\n",
       " ('Local_Authority_(Highway) = E10000027', 0.18975069252077562),\n",
       " ('Local_Authority_(Highway) = E10000012', 0.1895734597156398),\n",
       " ('Police_Force = 4', 0.18950064020486557),\n",
       " ('Police_Force = 22', 0.18931329576288874),\n",
       " ('Local_Authority_(Highway) = E06000054', 0.1891426109435588),\n",
       " ('Police_Force = 5', 0.18751108745786765),\n",
       " ('Age_Band_of_Driver = 10', 0.18688681502751855),\n",
       " ('Weather_Conditions = 4', 0.18553859202714165),\n",
       " ('Police_Force = 7', 0.18493011950577273),\n",
       " ('Police_Force = 42', 0.18481429839016353),\n",
       " ('Local_Authority_(Highway) = S12000019', 0.18441558441558442),\n",
       " ('Vehicle_Type = 1', 0.18423333843251236),\n",
       " ('Police_Force = 17', 0.18401578687715836),\n",
       " ('Local_Authority_(Highway) = E10000007', 0.18354618354618354),\n",
       " ('Local_Authority_(Highway) = E10000008', 0.18318141723022641),\n",
       " ('Day_of_Week = 1', 0.18177496038034865),\n",
       " ('Casualty_Type = 1.0', 0.18170239864147739),\n",
       " ('Local_Authority_(Highway) = E06000048', 0.18139223560910309),\n",
       " ('Local_Authority_(Highway) = S12000014', 0.18126272912423624),\n",
       " ('Local_Authority_(Highway) = E10000031', 0.18107769423558898),\n",
       " ('Police_Force = 23', 0.18107769423558898),\n",
       " ('Casualty_Type = 16.0', 0.18085106382978725),\n",
       " ('Local_Authority_(Highway) = W06000005', 0.18047882136279927),\n",
       " ('Local_Authority_(Highway) = E06000004', 0.18020679468242246),\n",
       " ('Local_Authority_(Highway) = S12000008', 0.1796875),\n",
       " ('Age_Band_of_Driver = 9', 0.1787627264177945),\n",
       " ('Casualty_Type = 2.0', 0.17818889970788704),\n",
       " ('Local_Authority_(Highway) = E08000012', 0.17787234042553191),\n",
       " ('Police_Force = 54', 0.17773019271948609),\n",
       " ('Local_Authority_(Highway) = S12000011', 0.17751479289940827),\n",
       " ('Age_Band_of_Casualty = 3.0', 0.17666666666666667),\n",
       " ('Vehicle_Type = 2', 0.17600700525394045),\n",
       " ('Age_Band_of_Casualty = 4.0', 0.17600683890577506),\n",
       " ('Police_Force = 6', 0.17580743449116393),\n",
       " ('Local_Authority_(Highway) = E06000043', 0.17578365089121081),\n",
       " ('Local_Authority_(Highway) = E08000007', 0.17494600431965443),\n",
       " ('1st_Road_Class = 4', 0.17397890811629668),\n",
       " ('Local_Authority_(Highway) = E06000022', 0.1731669266770671),\n",
       " ('Local_Authority_(Highway) = E06000034', 0.17292225201072386),\n",
       " ('Police_Force = 94', 0.17286914765906364),\n",
       " ('Local_Authority_(Highway) = S12000015', 0.17286914765906364),\n",
       " ('Local_Authority_(Highway) = E08000008', 0.17248062015503876),\n",
       " ('Vehicle_Type = -1', 0.17241379310344829),\n",
       " ('Local_Authority_(Highway) = W06000018', 0.17232375979112272),\n",
       " ('Local_Authority_(Highway) = E06000008', 0.17228915662650601),\n",
       " ('Speed_limit = 50', 0.17187378866578804),\n",
       " ('Age_Band_of_Driver = 3', 0.17135549872122763),\n",
       " ('Local_Authority_(Highway) = S12000044', 0.1705685618729097),\n",
       " ('Local_Authority_(Highway) = E08000001', 0.17051282051282052),\n",
       " ('Local_Authority_(Highway) = W06000012', 0.17045454545454544),\n",
       " ('Age_Band_of_Driver = 4', 0.17020485901426116),\n",
       " ('Local_Authority_(Highway) = E06000029', 0.17004680187207488),\n",
       " ('Police_Force = 43', 0.17001744239419811),\n",
       " ('Vehicle_Type = 20', 0.16968325791855204),\n",
       " ('Day_of_Week = 7', 0.16956091295855297),\n",
       " ('Local_Authority_(Highway) = E06000013', 0.16861081654294804),\n",
       " ('Local_Authority_(Highway) = E08000009', 0.16845878136200718),\n",
       " ('Did_Police_Officer_Attend_Scene_of_Accident = 1', 0.16816199323454162),\n",
       " ('Age_Band_of_Casualty = 8.0', 0.16759668294195149),\n",
       " ('Casualty_Type = 98.0', 0.16666666666666666),\n",
       " ('Vehicle_Type = 16', 0.16666666666666666),\n",
       " ('Local_Authority_(Highway) = E10000034', 0.16624040920716113),\n",
       " ('Local_Authority_(Highway) = E06000052', 0.16572123176661263),\n",
       " ('Sex_of_Driver = 1', 0.16565509082867511),\n",
       " ('Local_Authority_(Highway) = E10000018', 0.16563523844193667),\n",
       " ('Police_Force = 30', 0.16444929116684842),\n",
       " ('Local_Authority_(Highway) = E06000020', 0.16268980477223427),\n",
       " ('Weather_Conditions = 6', 0.16246498599439776),\n",
       " ('Police_Force = 35', 0.1623931623931624),\n",
       " ('Local_Authority_(Highway) = E10000024', 0.16236469608659451),\n",
       " ('Local_Authority_(Highway) = E10000006', 0.16184519155590305),\n",
       " ('Police_Force = 3', 0.16184519155590305),\n",
       " ('Journey_Purpose_of_Driver = 5', 0.16080402010050251),\n",
       " ('Local_Authority_(Highway) = E08000027', 0.16079812206572769),\n",
       " ('Local_Authority_(Highway) = S12000010', 0.16065573770491803),\n",
       " ('Local_Authority_(Highway) = E06000044', 0.16027874564459929),\n",
       " ('Local_Authority_(Highway) = S12000013', 0.16),\n",
       " ('Speed_limit = 70', 0.15951922271547031),\n",
       " ('Road_Type = 6', 0.15915187981450965),\n",
       " ('Local_Authority_(Highway) = E06000037', 0.15912897822445563),\n",
       " ('Speed_limit = 40', 0.1591031666538254),\n",
       " ('Police_Force = 97', 0.15907457968098865),\n",
       " ('Age_Band_of_Driver = 8', 0.15889395157687841),\n",
       " ('Local_Authority_(Highway) = E06000033', 0.15867158671586715),\n",
       " ('Propulsion_Code = -1', 0.15845350215587428),\n",
       " ('Road_Surface_Conditions = 2', 0.15808381597639604),\n",
       " ('Police_Force = 50', 0.15781290489764188),\n",
       " ('Local_Authority_(Highway) = E06000007', 0.15732368896925858),\n",
       " ('Casualty_Class = 1.0', 0.1570538902266877),\n",
       " ('Age_Band_of_Casualty = 1.0', 0.15700141442715701),\n",
       " ('Local_Authority_(Highway) = E08000028', 0.15681983953318746),\n",
       " ('Casualty_Class = 2.0', 0.15607463187682863),\n",
       " ('Age_Band_of_Casualty = 2.0', 0.15588003157063932),\n",
       " ('Age_Band_of_Casualty = 5.0', 0.15544147843942505),\n",
       " ('Local_Authority_(Highway) = E08000036', 0.15537303216974674),\n",
       " ('Police_Force = 40', 0.15533672172808133),\n",
       " ('Weather_Conditions = 5', 0.15517614004754701),\n",
       " ('Vehicle_Type = 11', 0.15508559919436052),\n",
       " ('Casualty_Type = 19.0', 0.15494736842105264),\n",
       " ('Police_Force = 62', 0.15477497255762898),\n",
       " ('Propulsion_Code = 1', 0.1544044591886567),\n",
       " ('Police_Force = 45', 0.15399215487789447),\n",
       " ('Local_Authority_(Highway) = E10000030', 0.15399215487789447),\n",
       " ('Local_Authority_(Highway) = E06000014', 0.15393386545039908),\n",
       " ('Local_Authority_(Highway) = S12000005', 0.15384615384615385),\n",
       " ('Police_Force = 16', 0.15376904570970329),\n",
       " ('Journey_Purpose_of_Driver = 6', 0.15278085317364809),\n",
       " ('1st_Road_Class = 2', 0.15261044176706828),\n",
       " ('Local_Authority_(Highway) = E06000002', 0.15207373271889402),\n",
       " ('Age_Band_of_Driver = 5', 0.15204642824587525),\n",
       " ('Light_Conditions = 7', 0.15158065387733044),\n",
       " ('Police_Force = 52', 0.15150544522741832),\n",
       " ('Local_Authority_(Highway) = E08000003', 0.15149501661129569),\n",
       " ('Weather_Conditions = 1', 0.15139517345399697),\n",
       " ('Local_Authority_(Highway) = E08000011', 0.15116279069767441),\n",
       " ('Police_Force = 31', 0.15046003968969873),\n",
       " ('Local_Authority_(Highway) = E06000030', 0.14978902953586498),\n",
       " ('Light_Conditions = 4', 0.14856411458239441),\n",
       " ('1st_Road_Class = 3', 0.14828356393604553),\n",
       " ('Local_Authority_(Highway) = S12000038', 0.14784394250513347),\n",
       " ('Police_Force = 95', 0.14762741652021089),\n",
       " ('Road_Surface_Conditions = 1', 0.14759904337072272),\n",
       " ('Day_of_Week = 6', 0.14725399458657121),\n",
       " ('Police_Force = 13', 0.14695604193489056),\n",
       " ('Local_Authority_(Highway) = E08000002', 0.14669926650366749),\n",
       " ('Local_Authority_(Highway) = E06000041', 0.14615384615384616),\n",
       " ('1st_Road_Class = 5', 0.14615060212736047),\n",
       " ('Age_Band_of_Driver = 2', 0.14611872146118721),\n",
       " ('Journey_Purpose_of_Driver = 2', 0.14610055071948835),\n",
       " ('Age_Band_of_Casualty = 7.0', 0.1457416607523066),\n",
       " ('1st_Road_Class = 6', 0.14558283443175529),\n",
       " ('Local_Authority_(Highway) = W06000021', 0.1455223880597015),\n",
       " ('Day_of_Week = 4', 0.14543519503956318),\n",
       " ('Road_Surface_Conditions = 4', 0.14541213063763608),\n",
       " ('Journey_Purpose_of_Driver = 1', 0.14525024601231207),\n",
       " ('Local_Authority_(Highway) = E08000035', 0.14471744471744472),\n",
       " ('Police_Force = 33', 0.14460678985818651),\n",
       " ('Local_Authority_(Highway) = E08000034', 0.14423076923076922),\n",
       " ('Local_Authority_(Highway) = W06000015', 0.14354066985645933),\n",
       " ('Local_Authority_(Highway) = E06000009', 0.14323607427055704),\n",
       " ('Local_Authority_(Highway) = W06000022', 0.14315352697095435),\n",
       " ('Local_Authority_(Highway) = S12000029', 0.14269406392694065),\n",
       " ('Vehicle_Type = 19', 0.14259284637522268),\n",
       " ('Light_Conditions = 1', 0.14197003361248789),\n",
       " ('Vehicle_Type = 98', 0.14195583596214512),\n",
       " ('1st_Road_Class = 1', 0.1418963374515681),\n",
       " ('Weather_Conditions = 2', 0.1418923223956674),\n",
       " ('Local_Authority_(Highway) = E10000019', 0.14162790697674418),\n",
       " ('Police_Force = 32', 0.14162790697674418),\n",
       " ('Local_Authority_(Highway) = E06000036', 0.14157303370786517),\n",
       " ('Local_Authority_(Highway) = E06000055', 0.14148681055155876),\n",
       " ('Local_Authority_(Highway) = E08000029', 0.14057507987220447),\n",
       " ('Day_of_Week = 3', 0.14050562578135853),\n",
       " ('Road_Surface_Conditions = 3', 0.14023210831721469),\n",
       " ('Speed_limit = 20', 0.14002049705354855),\n",
       " ('Road_Type = 3', 0.13999872959410531),\n",
       " ('Local_Authority_(Highway) = E08000006', 0.13993710691823899),\n",
       " ('Age_Band_of_Casualty = 6.0', 0.13957399103139012),\n",
       " ('Day_of_Week = 2', 0.1394413517424038),\n",
       " ('Local_Authority_(Highway) = E06000028', 0.13934426229508196),\n",
       " ('Age_Band_of_Driver = 7', 0.13921533176640752),\n",
       " ('Casualty_Type = 11.0', 0.13921314310419369),\n",
       " ('Propulsion_Code = 2', 0.13899764177942625),\n",
       " ('Local_Authority_(Highway) = S12000018', 0.1380952380952381),\n",
       " ('Day_of_Week = 5', 0.1380418072095638),\n",
       " ('Local_Authority_(Highway) = E08000026', 0.13783783783783785),\n",
       " ('Local_Authority_(Highway) = E06000040', 0.13739376770538245),\n",
       " ('Age_Band_of_Driver = 6', 0.13731513655973543),\n",
       " ('Local_Authority_(Highway) = E06000005', 0.1366906474820144),\n",
       " ('Local_Authority_(Highway) = E10000016', 0.13576905728461885),\n",
       " ('Police_Force = 41', 0.13499812241832521),\n",
       " ('Local_Authority_(Highway) = E10000015', 0.13499812241832521),\n",
       " ('Local_Authority_(Highway) = S12000042', 0.13445378151260504),\n",
       " ('Police_Force = 61', 0.1336116910229645),\n",
       " ('Local_Authority_(Highway) = E08000032', 0.13328106624852998),\n",
       " ('Propulsion_Code = 3', 0.1328125),\n",
       " ('Local_Authority_(Highway) = E08000030', 0.13224637681159421),\n",
       " ('Vehicle_Type = 9', 0.13217952763550744),\n",
       " ('Police_Force = 20', 0.13072097885851466),\n",
       " ('Sex_of_Casualty = 2.0', 0.13029315960912052),\n",
       " ('Police_Force = 46', 0.12975085490962385),\n",
       " ('Local_Authority_(Highway) = S12000009', 0.12972972972972974),\n",
       " ('Local_Authority_(Highway) = E06000042', 0.12967032967032968),\n",
       " ('Sex_of_Driver = 3', 0.12959079743574381),\n",
       " ('Casualty_Type = 9.0', 0.12882455103096593),\n",
       " ('Local_Authority_(Highway) = W06000016', 0.12879708383961117),\n",
       " ('Local_Authority_(Highway) = S12000040', 0.12864077669902912),\n",
       " ('Police_Force = 37', 0.12850862360500506),\n",
       " ('Local_Authority_(Highway) = E10000029', 0.12850862360500506),\n",
       " ('Local_Authority_(Highway) = E06000018', 0.12835051546391751),\n",
       " ('Propulsion_Code = 12', 0.12727272727272726),\n",
       " ('Road_Type = 9', 0.12702702702702703),\n",
       " ('Local_Authority_(Highway) = E06000023', 0.12666311868014901),\n",
       " ('Weather_Conditions = 8', 0.12625353561326819),\n",
       " ('Road_Type = 2', 0.12492563950029745),\n",
       " ('Speed_limit = 30', 0.12351350117550387),\n",
       " ('Local_Authority_(Highway) = E06000010', 0.12332268370607029),\n",
       " ('Local_Authority_(Highway) = E08000018', 0.12302839116719243),\n",
       " ('Weather_Conditions = 3', 0.12274024738344434),\n",
       " ('Local_Authority_(Highway) = S12000036', 0.12211538461538461),\n",
       " ('Urban_or_Rural_Area = 1', 0.12145722328616033),\n",
       " ('Police_Force = 10', 0.12064062266127826),\n",
       " ('Local_Authority_(Highway) = E08000025', 0.12063293122356258),\n",
       " ('Local_Authority_(Highway) = E06000024', 0.12056737588652482),\n",
       " ('Local_Authority_(Highway) = E08000016', 0.12037914691943127),\n",
       " ('Local_Authority_(Highway) = E08000013', 0.11982248520710059),\n",
       " ('Sex_of_Driver = 2', 0.11860187090969594),\n",
       " ('Local_Authority_(Highway) = E06000025', 0.11840562719812427),\n",
       " ('Local_Authority_(Highway) = E08000024', 0.1167420814479638),\n",
       " ('Local_Authority_(Highway) = E08000031', 0.11668185961713765),\n",
       " ('Local_Authority_(Highway) = W06000011', 0.11522198731501057),\n",
       " ('Local_Authority_(Highway) = S12000043', 0.11293721028234302),\n",
       " ('Vehicle_Type = 8', 0.11285714285714285),\n",
       " ('Local_Authority_(Highway) = E06000015', 0.1116584564860427),\n",
       " ('Local_Authority_(Highway) = E06000012', 0.11161731207289294),\n",
       " ('Local_Authority_(Highway) = E06000006', 0.111358574610245),\n",
       " ('Vehicle_Type = 18', 0.1111111111111111),\n",
       " ('Local_Authority_(Highway) = E10000028', 0.1108824874256973),\n",
       " ('Local_Authority_(Highway) = S12000039', 0.11061946902654868),\n",
       " ('Local_Authority_(Highway) = E08000021', 0.11040204211869815),\n",
       " ('Police_Force = 14', 0.11028065893837706),\n",
       " ('Local_Authority_(Highway) = E09000001', 0.10847457627118644),\n",
       " ('Police_Force = 48', 0.10792580101180438),\n",
       " ('Age_Band_of_Casualty = -1.0', 0.10587842351369406),\n",
       " ('Local_Authority_(Highway) = E08000017', 0.10587612493382742),\n",
       " ('Local_Authority_(Highway) = E06000032', 0.10520939734422881),\n",
       " ('Age_Band_of_Driver = -1', 0.10468992375986007),\n",
       " ('Age_Band_of_Driver = 1', 0.1044776119402985),\n",
       " ('Local_Authority_(Highway) = E06000026', 0.10443037974683544),\n",
       " ('Local_Authority_(Highway) = E08000019', 0.10238907849829351),\n",
       " ('Weather_Conditions = 9', 0.10214939348797616),\n",
       " ('Sex_of_Driver = -1', 0.10000000000000001),\n",
       " ('Local_Authority_(Highway) = E08000022', 0.099557522123893807),\n",
       " ('Local_Authority_(Highway) = E06000039', 0.09932497589199614),\n",
       " ('Police_Force = 21', 0.098734628408483335),\n",
       " ('Sex_of_Casualty = -1.0', 0.098360655737704916),\n",
       " ('Local_Authority_(Highway) = E06000038', 0.097488921713441659),\n",
       " ('Road_Type = 1', 0.096808349720163361),\n",
       " ('Local_Authority_(Highway) = E06000031', 0.09583333333333334),\n",
       " ('Local_Authority_(Highway) = E06000016', 0.095486111111111105),\n",
       " ('Journey_Purpose_of_Driver = 3', 0.095399814757641241),\n",
       " ('Road_Type = 7', 0.095283018867924535),\n",
       " ('Propulsion_Code = 7', 0.094736842105263161),\n",
       " ('Local_Authority_(Highway) = E09000019', 0.093098958333333329),\n",
       " ('Local_Authority_(Highway) = E06000027', 0.092624356775300176),\n",
       " ('Journey_Purpose_of_Driver = 4', 0.091954022988505746),\n",
       " ('Local_Authority_(Highway) = E08000020', 0.091491308325709064),\n",
       " ('Local_Authority_(Highway) = E09000028', 0.091463414634146339),\n",
       " ('Local_Authority_(Highway) = E06000035', 0.090709583028529633),\n",
       " ('Local_Authority_(Highway) = E09000016', 0.09056024558710668),\n",
       " ('Local_Authority_(Highway) = E09000006', 0.088800530152418816),\n",
       " ('Propulsion_Code = 6', 0.08771929824561403),\n",
       " ('Casualty_Type = 8.0', 0.087333333333333332),\n",
       " ('Local_Authority_(Highway) = E09000013', 0.086918349429323971),\n",
       " ('Local_Authority_(Highway) = E09000027', 0.08613728129205922),\n",
       " ('Local_Authority_(Highway) = E09000012', 0.086021505376344093),\n",
       " ('Local_Authority_(Highway) = E09000015', 0.085081585081585087),\n",
       " ('Local_Authority_(Highway) = E09000021', 0.083728278041074244),\n",
       " ('Local_Authority_(Highway) = E08000023', 0.083011583011583012),\n",
       " ('Propulsion_Code = 8', 0.079757462686567165),\n",
       " ('Local_Authority_(Highway) = E09000003', 0.079432624113475181),\n",
       " ('Local_Authority_(Highway) = E09000033', 0.078796561604584522),\n",
       " ('Local_Authority_(Highway) = E09000005', 0.07740112994350283),\n",
       " ('Local_Authority_(Highway) = E09000017', 0.076923076923076927),\n",
       " ('Local_Authority_(Highway) = E09000010', 0.075832305795314428),\n",
       " ('Local_Authority_(Highway) = E09000025', 0.075249853027630806),\n",
       " ('Local_Authority_(Highway) = E09000020', 0.073748902546093065),\n",
       " ('Police_Force = 1', 0.07209229155742003),\n",
       " ('Local_Authority_(Highway) = E09000007', 0.071759259259259259),\n",
       " ('Local_Authority_(Highway) = E09000011', 0.071143085531574737),\n",
       " ('Did_Police_Officer_Attend_Scene_of_Accident = 2', 0.070582104531768705),\n",
       " ('Local_Authority_(Highway) = W06000019', 0.070422535211267609),\n",
       " ('Local_Authority_(Highway) = E09000032', 0.068023567220139261),\n",
       " ('Local_Authority_(Highway) = E09000022', 0.067879325643300792),\n",
       " ('Local_Authority_(Highway) = E09000008', 0.0647870425914817),\n",
       " ('Local_Authority_(Highway) = E09000014', 0.06465005931198102),\n",
       " ('Local_Authority_(Highway) = E09000018', 0.062388591800356503),\n",
       " ('Local_Authority_(Highway) = E09000031', 0.061585835257890686),\n",
       " ('Local_Authority_(Highway) = E09000004', 0.059887005649717516),\n",
       " ('Local_Authority_(Highway) = E09000026', 0.059333333333333335),\n",
       " ('Local_Authority_(Highway) = E09000002', 0.059009483667017915),\n",
       " ('Local_Authority_(Highway) = E09000023', 0.058681185722928013),\n",
       " ('Road_Surface_Conditions = -1', 0.056880733944954132),\n",
       " ('Local_Authority_(Highway) = E09000024', 0.056737588652482268),\n",
       " ('Local_Authority_(Highway) = E06000021', 0.055780113177041228),\n",
       " ('Local_Authority_(Highway) = S12000023', 0.055555555555555552),\n",
       " ('Did_Police_Officer_Attend_Scene_of_Accident = 3', 0.054869684499314127),\n",
       " ('Local_Authority_(Highway) = E09000030', 0.052996532937097572),\n",
       " ('Local_Authority_(Highway) = E09000029', 0.052991452991452991),\n",
       " ('Local_Authority_(Highway) = E09000009', 0.05268389662027833),\n",
       " ('Local_Authority_(Highway) = W06000020', 0.049382716049382713),\n",
       " ('Casualty_Severity = 3.0', 0.043994701660351784),\n",
       " ('Local_Authority_(Highway) = EHEATHROW', 0.025974025974025976),\n",
       " ('Propulsion_Code = 9', 0.0),\n",
       " ('Local_Authority_(Highway) = E06000053', 0.0),\n",
       " ('Speed_limit = 10', 0.0),\n",
       " ('Speed_limit = 0', 0.0),\n",
       " ('Propulsion_Code = 10', 0.0),\n",
       " ('Journey_Purpose_of_Driver = -1', 0.0),\n",
       " ('Casualty_Type = 18.0', 0.0)]"
      ]
     },
     "execution_count": 21,
     "metadata": {},
     "output_type": "execute_result"
    }
   ],
   "source": [
    "# Create crosstables for each of the categorical variables with the target variable.\n",
    "# Have a look for which values of these categorical variables has a higher proportion of bad accidents.\n",
    "# Any variable & value combination that produces more than 15% bad accidents should be investigated.\n",
    "\n",
    "categorical_variables = [u'Police_Force',\n",
    "       'Day_of_Week', 'Local_Authority_(Highway)', '1st_Road_Class',\n",
    "       'Road_Type', 'Speed_limit', 'Light_Conditions',\n",
    "       'Weather_Conditions', 'Road_Surface_Conditions',\n",
    "       'Urban_or_Rural_Area', 'Did_Police_Officer_Attend_Scene_of_Accident',\n",
    "       'Casualty_Class', 'Sex_of_Casualty',\n",
    "       'Age_Band_of_Casualty', u'Casualty_Severity',\n",
    "       'Casualty_Type', 'Vehicle_Type',\n",
    "       'Journey_Purpose_of_Driver', 'Sex_of_Driver', \n",
    "       'Age_Band_of_Driver', u'Propulsion_Code']\n",
    "\n",
    "# Create a dictionary for the variable & value, and the proportion of bad accidents.\n",
    "prop_dict={}\n",
    "for var in categorical_variables:\n",
    "    \n",
    "    ct = pd.crosstab(index=df['Bad_Accident'], columns=df[var], normalize='columns')\n",
    "    \n",
    "    for x in df[var].unique():\n",
    "        prop = ct.iloc[1][x]\n",
    "        \n",
    "        key = str(var) + \" = \" + str(x)\n",
    "        prop_dict[key] = prop\n",
    "        \n",
    "#Remove any null proportions\n",
    "for keyvalue in prop_dict.items():\n",
    "    if type(keyvalue[1]) is not np.float64:\n",
    "        del prop_dict[keyvalue[0]]\n",
    "\n",
    "#Sort based on the proportion        \n",
    "sorted(prop_dict.items(), key=lambda x:x[1], reverse=True)"
   ]
  },
  {
   "cell_type": "markdown",
   "metadata": {},
   "source": [
    "Ignoring the original casualty severity variable, propulsion code and vehicle type are worth investigating more."
   ]
  },
  {
   "cell_type": "code",
   "execution_count": 22,
   "metadata": {
    "collapsed": false
   },
   "outputs": [
    {
     "data": {
      "text/html": [
       "<div>\n",
       "<table border=\"1\" class=\"dataframe\">\n",
       "  <thead>\n",
       "    <tr style=\"text-align: right;\">\n",
       "      <th>Vehicle_Type</th>\n",
       "      <th>-1</th>\n",
       "      <th>1</th>\n",
       "      <th>2</th>\n",
       "      <th>3</th>\n",
       "      <th>4</th>\n",
       "      <th>5</th>\n",
       "      <th>8</th>\n",
       "      <th>9</th>\n",
       "      <th>10</th>\n",
       "      <th>11</th>\n",
       "      <th>...</th>\n",
       "      <th>17</th>\n",
       "      <th>18</th>\n",
       "      <th>19</th>\n",
       "      <th>20</th>\n",
       "      <th>21</th>\n",
       "      <th>22</th>\n",
       "      <th>23</th>\n",
       "      <th>90</th>\n",
       "      <th>97</th>\n",
       "      <th>98</th>\n",
       "    </tr>\n",
       "    <tr>\n",
       "      <th>Bad_Accident</th>\n",
       "      <th></th>\n",
       "      <th></th>\n",
       "      <th></th>\n",
       "      <th></th>\n",
       "      <th></th>\n",
       "      <th></th>\n",
       "      <th></th>\n",
       "      <th></th>\n",
       "      <th></th>\n",
       "      <th></th>\n",
       "      <th></th>\n",
       "      <th></th>\n",
       "      <th></th>\n",
       "      <th></th>\n",
       "      <th></th>\n",
       "      <th></th>\n",
       "      <th></th>\n",
       "      <th></th>\n",
       "      <th></th>\n",
       "      <th></th>\n",
       "      <th></th>\n",
       "    </tr>\n",
       "  </thead>\n",
       "  <tbody>\n",
       "    <tr>\n",
       "      <th>0</th>\n",
       "      <td>0.827586</td>\n",
       "      <td>0.815767</td>\n",
       "      <td>0.823993</td>\n",
       "      <td>0.784272</td>\n",
       "      <td>0.701139</td>\n",
       "      <td>0.617465</td>\n",
       "      <td>0.887143</td>\n",
       "      <td>0.86782</td>\n",
       "      <td>0.776712</td>\n",
       "      <td>0.844914</td>\n",
       "      <td>...</td>\n",
       "      <td>0.724951</td>\n",
       "      <td>0.888889</td>\n",
       "      <td>0.857407</td>\n",
       "      <td>0.830317</td>\n",
       "      <td>0.786337</td>\n",
       "      <td>0.752252</td>\n",
       "      <td>0.444444</td>\n",
       "      <td>0.792883</td>\n",
       "      <td>0.704626</td>\n",
       "      <td>0.858044</td>\n",
       "    </tr>\n",
       "    <tr>\n",
       "      <th>1</th>\n",
       "      <td>0.172414</td>\n",
       "      <td>0.184233</td>\n",
       "      <td>0.176007</td>\n",
       "      <td>0.215728</td>\n",
       "      <td>0.298861</td>\n",
       "      <td>0.382535</td>\n",
       "      <td>0.112857</td>\n",
       "      <td>0.13218</td>\n",
       "      <td>0.223288</td>\n",
       "      <td>0.155086</td>\n",
       "      <td>...</td>\n",
       "      <td>0.275049</td>\n",
       "      <td>0.111111</td>\n",
       "      <td>0.142593</td>\n",
       "      <td>0.169683</td>\n",
       "      <td>0.213663</td>\n",
       "      <td>0.247748</td>\n",
       "      <td>0.555556</td>\n",
       "      <td>0.207117</td>\n",
       "      <td>0.295374</td>\n",
       "      <td>0.141956</td>\n",
       "    </tr>\n",
       "  </tbody>\n",
       "</table>\n",
       "<p>2 rows × 21 columns</p>\n",
       "</div>"
      ],
      "text/plain": [
       "Vehicle_Type       -1         1         2         3         4         5   \\\n",
       "Bad_Accident                                                               \n",
       "0             0.827586  0.815767  0.823993  0.784272  0.701139  0.617465   \n",
       "1             0.172414  0.184233  0.176007  0.215728  0.298861  0.382535   \n",
       "\n",
       "Vehicle_Type        8        9         10        11    ...           17  \\\n",
       "Bad_Accident                                           ...                \n",
       "0             0.887143  0.86782  0.776712  0.844914    ...     0.724951   \n",
       "1             0.112857  0.13218  0.223288  0.155086    ...     0.275049   \n",
       "\n",
       "Vehicle_Type        18        19        20        21        22        23  \\\n",
       "Bad_Accident                                                               \n",
       "0             0.888889  0.857407  0.830317  0.786337  0.752252  0.444444   \n",
       "1             0.111111  0.142593  0.169683  0.213663  0.247748  0.555556   \n",
       "\n",
       "Vehicle_Type        90        97        98  \n",
       "Bad_Accident                                \n",
       "0             0.792883  0.704626  0.858044  \n",
       "1             0.207117  0.295374  0.141956  \n",
       "\n",
       "[2 rows x 21 columns]"
      ]
     },
     "execution_count": 22,
     "metadata": {},
     "output_type": "execute_result"
    }
   ],
   "source": [
    "pd.crosstab(index=df['Bad_Accident'], columns=df['Vehicle_Type'], normalize='columns')"
   ]
  },
  {
   "cell_type": "markdown",
   "metadata": {},
   "source": [
    "|**code** |\t**label**\n",
    "|----------------------------------|\n",
    "|1\t      |Pedal cycle\n",
    "|2\t      |Motorcycle 50cc and under\n",
    "|3\t      |Motorcycle 125cc and under\n",
    "|4\t      |Motorcycle over 125cc and up to 500cc\n",
    "|5\t      |Motorcycle over 500cc\n",
    "|8\t      |Taxi/Private hire car\n",
    "|9\t      |Car\n",
    "|10\t      |Minibus (8 - 16 passenger seats)\n",
    "|11\t      |Bus or coach (17 or more pass seats)\n",
    "|16\t      |Ridden horse\n",
    "|17\t      |Agricultural vehicle\n",
    "|18\t      |Tram\n",
    "|19\t      |Van / Goods 3.5 tonnes mgw or under\n",
    "|20\t      |Goods over 3.5t. and under 7.5t\n",
    "|21\t      |Goods 7.5 tonnes mgw and over\n",
    "|22\t      |Mobility scooter\n",
    "|23\t      |Electric motorcycle\n",
    "|90\t      |Other vehicle\n",
    "|97\t      |Motorcycle - unknown cc\n",
    "|98\t      |Goods vehicle - unknown weight\n",
    "|-1\t      |Data missing or out of range\n"
   ]
  },
  {
   "cell_type": "markdown",
   "metadata": {},
   "source": [
    "For a bit of clarity, some of the labels can be combined (motorcycles, rare, etc)"
   ]
  },
  {
   "cell_type": "code",
   "execution_count": 25,
   "metadata": {
    "collapsed": false
   },
   "outputs": [
    {
     "data": {
      "text/html": [
       "<div>\n",
       "<table border=\"1\" class=\"dataframe\">\n",
       "  <thead>\n",
       "    <tr style=\"text-align: right;\">\n",
       "      <th></th>\n",
       "      <th>Accident_Index</th>\n",
       "      <th>Location_Easting_OSGR</th>\n",
       "      <th>Location_Northing_OSGR</th>\n",
       "      <th>Longitude</th>\n",
       "      <th>Latitude</th>\n",
       "      <th>Police_Force</th>\n",
       "      <th>Accident_Severity</th>\n",
       "      <th>Number_of_Vehicles</th>\n",
       "      <th>Number_of_Casualties</th>\n",
       "      <th>Date</th>\n",
       "      <th>...</th>\n",
       "      <th>Age_of_Driver</th>\n",
       "      <th>Age_Band_of_Driver</th>\n",
       "      <th>Engine_Capacity_(CC)</th>\n",
       "      <th>Propulsion_Code</th>\n",
       "      <th>Age_of_Vehicle</th>\n",
       "      <th>Driver_IMD_Decile</th>\n",
       "      <th>Driver_Home_Area_Type</th>\n",
       "      <th>Vehicle_IMD_Decile</th>\n",
       "      <th>Bad_Accident</th>\n",
       "      <th>Vehicle_Type_Grouped</th>\n",
       "    </tr>\n",
       "  </thead>\n",
       "  <tbody>\n",
       "    <tr>\n",
       "      <th>0</th>\n",
       "      <td>201501BS70001</td>\n",
       "      <td>525130.0</td>\n",
       "      <td>180050.0</td>\n",
       "      <td>-0.198465</td>\n",
       "      <td>51.505538</td>\n",
       "      <td>1</td>\n",
       "      <td>3</td>\n",
       "      <td>1</td>\n",
       "      <td>1</td>\n",
       "      <td>12/01/2015</td>\n",
       "      <td>...</td>\n",
       "      <td>-1</td>\n",
       "      <td>-1</td>\n",
       "      <td>2143</td>\n",
       "      <td>2</td>\n",
       "      <td>4</td>\n",
       "      <td>-1</td>\n",
       "      <td>-1</td>\n",
       "      <td>-1</td>\n",
       "      <td>0</td>\n",
       "      <td>Van/HGV</td>\n",
       "    </tr>\n",
       "    <tr>\n",
       "      <th>1</th>\n",
       "      <td>201501BS70002</td>\n",
       "      <td>526530.0</td>\n",
       "      <td>178560.0</td>\n",
       "      <td>-0.178838</td>\n",
       "      <td>51.491836</td>\n",
       "      <td>1</td>\n",
       "      <td>3</td>\n",
       "      <td>1</td>\n",
       "      <td>1</td>\n",
       "      <td>12/01/2015</td>\n",
       "      <td>...</td>\n",
       "      <td>-1</td>\n",
       "      <td>-1</td>\n",
       "      <td>1600</td>\n",
       "      <td>1</td>\n",
       "      <td>3</td>\n",
       "      <td>-1</td>\n",
       "      <td>-1</td>\n",
       "      <td>-1</td>\n",
       "      <td>0</td>\n",
       "      <td>Car</td>\n",
       "    </tr>\n",
       "    <tr>\n",
       "      <th>2</th>\n",
       "      <td>201501BS70004</td>\n",
       "      <td>524610.0</td>\n",
       "      <td>181080.0</td>\n",
       "      <td>-0.205590</td>\n",
       "      <td>51.514910</td>\n",
       "      <td>1</td>\n",
       "      <td>3</td>\n",
       "      <td>1</td>\n",
       "      <td>1</td>\n",
       "      <td>12/01/2015</td>\n",
       "      <td>...</td>\n",
       "      <td>30</td>\n",
       "      <td>6</td>\n",
       "      <td>1686</td>\n",
       "      <td>2</td>\n",
       "      <td>10</td>\n",
       "      <td>-1</td>\n",
       "      <td>1</td>\n",
       "      <td>-1</td>\n",
       "      <td>0</td>\n",
       "      <td>Car</td>\n",
       "    </tr>\n",
       "    <tr>\n",
       "      <th>3</th>\n",
       "      <td>201501BS70005</td>\n",
       "      <td>524420.0</td>\n",
       "      <td>181080.0</td>\n",
       "      <td>-0.208327</td>\n",
       "      <td>51.514952</td>\n",
       "      <td>1</td>\n",
       "      <td>3</td>\n",
       "      <td>1</td>\n",
       "      <td>1</td>\n",
       "      <td>13/01/2015</td>\n",
       "      <td>...</td>\n",
       "      <td>-1</td>\n",
       "      <td>-1</td>\n",
       "      <td>-1</td>\n",
       "      <td>-1</td>\n",
       "      <td>-1</td>\n",
       "      <td>-1</td>\n",
       "      <td>-1</td>\n",
       "      <td>-1</td>\n",
       "      <td>0</td>\n",
       "      <td>Car</td>\n",
       "    </tr>\n",
       "    <tr>\n",
       "      <th>4</th>\n",
       "      <td>201501BS70008</td>\n",
       "      <td>524630.0</td>\n",
       "      <td>179040.0</td>\n",
       "      <td>-0.206022</td>\n",
       "      <td>51.496572</td>\n",
       "      <td>1</td>\n",
       "      <td>2</td>\n",
       "      <td>2</td>\n",
       "      <td>1</td>\n",
       "      <td>09/01/2015</td>\n",
       "      <td>...</td>\n",
       "      <td>48</td>\n",
       "      <td>8</td>\n",
       "      <td>-1</td>\n",
       "      <td>-1</td>\n",
       "      <td>-1</td>\n",
       "      <td>-1</td>\n",
       "      <td>1</td>\n",
       "      <td>-1</td>\n",
       "      <td>1</td>\n",
       "      <td>Pedal Cycle</td>\n",
       "    </tr>\n",
       "  </tbody>\n",
       "</table>\n",
       "<p>5 rows × 70 columns</p>\n",
       "</div>"
      ],
      "text/plain": [
       "  Accident_Index  Location_Easting_OSGR  Location_Northing_OSGR  Longitude  \\\n",
       "0  201501BS70001               525130.0                180050.0  -0.198465   \n",
       "1  201501BS70002               526530.0                178560.0  -0.178838   \n",
       "2  201501BS70004               524610.0                181080.0  -0.205590   \n",
       "3  201501BS70005               524420.0                181080.0  -0.208327   \n",
       "4  201501BS70008               524630.0                179040.0  -0.206022   \n",
       "\n",
       "    Latitude  Police_Force  Accident_Severity  Number_of_Vehicles  \\\n",
       "0  51.505538             1                  3                   1   \n",
       "1  51.491836             1                  3                   1   \n",
       "2  51.514910             1                  3                   1   \n",
       "3  51.514952             1                  3                   1   \n",
       "4  51.496572             1                  2                   2   \n",
       "\n",
       "   Number_of_Casualties        Date          ...           Age_of_Driver  \\\n",
       "0                     1  12/01/2015          ...                      -1   \n",
       "1                     1  12/01/2015          ...                      -1   \n",
       "2                     1  12/01/2015          ...                      30   \n",
       "3                     1  13/01/2015          ...                      -1   \n",
       "4                     1  09/01/2015          ...                      48   \n",
       "\n",
       "  Age_Band_of_Driver  Engine_Capacity_(CC) Propulsion_Code  Age_of_Vehicle  \\\n",
       "0                 -1                  2143               2               4   \n",
       "1                 -1                  1600               1               3   \n",
       "2                  6                  1686               2              10   \n",
       "3                 -1                    -1              -1              -1   \n",
       "4                  8                    -1              -1              -1   \n",
       "\n",
       "   Driver_IMD_Decile  Driver_Home_Area_Type  Vehicle_IMD_Decile  Bad_Accident  \\\n",
       "0                 -1                     -1                  -1             0   \n",
       "1                 -1                     -1                  -1             0   \n",
       "2                 -1                      1                  -1             0   \n",
       "3                 -1                     -1                  -1             0   \n",
       "4                 -1                      1                  -1             1   \n",
       "\n",
       "   Vehicle_Type_Grouped  \n",
       "0               Van/HGV  \n",
       "1                   Car  \n",
       "2                   Car  \n",
       "3                   Car  \n",
       "4           Pedal Cycle  \n",
       "\n",
       "[5 rows x 70 columns]"
      ]
     },
     "execution_count": 25,
     "metadata": {},
     "output_type": "execute_result"
    }
   ],
   "source": [
    "def group_vehicle_types(x):\n",
    "    if x == 2 or x == 3 or x == 4 or x == 5 or x == 23 or x == 97:\n",
    "        return 'Motorcycle'\n",
    "    elif x == 19 or x == 20 or x == 21 or x == 98:\n",
    "        return 'Van/HGV'\n",
    "    elif x == 9:\n",
    "        return 'Car'\n",
    "    elif x == 1:\n",
    "        return 'Pedal Cycle'\n",
    "    elif x == 11:\n",
    "        return 'Bus/Coach'\n",
    "    elif x == 8:\n",
    "        return 'Taxi/Private Hire'\n",
    "    elif x == 90:\n",
    "        return 'Other'\n",
    "    elif x == 10:\n",
    "        return 'Minibus'\n",
    "    elif x == 16:\n",
    "        return 'Ridden Horse'\n",
    "    elif x == 17:\n",
    "        return 'Agricultural Vehicle'\n",
    "    elif x == 18:\n",
    "        return 'Tram'\n",
    "    elif x == 22:\n",
    "        return 'Mobility Scooter'\n",
    "    else:\n",
    "        return str(x)\n",
    "\n",
    "df['Vehicle_Type_Grouped'] = df['Vehicle_Type'].apply(group_vehicle_types)\n",
    "df.head()"
   ]
  },
  {
   "cell_type": "code",
   "execution_count": 104,
   "metadata": {
    "collapsed": false
   },
   "outputs": [
    {
     "data": {
      "text/html": [
       "<div>\n",
       "<table border=\"1\" class=\"dataframe\">\n",
       "  <thead>\n",
       "    <tr style=\"text-align: right;\">\n",
       "      <th>Bad_Accident</th>\n",
       "      <th>Vehicle_Type_Grouped</th>\n",
       "      <th>0</th>\n",
       "      <th>1</th>\n",
       "    </tr>\n",
       "  </thead>\n",
       "  <tbody>\n",
       "    <tr>\n",
       "      <th>0</th>\n",
       "      <td>-1</td>\n",
       "      <td>0.827586</td>\n",
       "      <td>0.172414</td>\n",
       "    </tr>\n",
       "    <tr>\n",
       "      <th>1</th>\n",
       "      <td>Agricultural Vehicle</td>\n",
       "      <td>0.724951</td>\n",
       "      <td>0.275049</td>\n",
       "    </tr>\n",
       "    <tr>\n",
       "      <th>2</th>\n",
       "      <td>Bus/Coach</td>\n",
       "      <td>0.844914</td>\n",
       "      <td>0.155086</td>\n",
       "    </tr>\n",
       "    <tr>\n",
       "      <th>3</th>\n",
       "      <td>Car</td>\n",
       "      <td>0.867820</td>\n",
       "      <td>0.132180</td>\n",
       "    </tr>\n",
       "    <tr>\n",
       "      <th>4</th>\n",
       "      <td>Minibus</td>\n",
       "      <td>0.776712</td>\n",
       "      <td>0.223288</td>\n",
       "    </tr>\n",
       "    <tr>\n",
       "      <th>5</th>\n",
       "      <td>Mobility Scooter</td>\n",
       "      <td>0.752252</td>\n",
       "      <td>0.247748</td>\n",
       "    </tr>\n",
       "    <tr>\n",
       "      <th>6</th>\n",
       "      <td>Motorcycle</td>\n",
       "      <td>0.721697</td>\n",
       "      <td>0.278303</td>\n",
       "    </tr>\n",
       "    <tr>\n",
       "      <th>7</th>\n",
       "      <td>Other</td>\n",
       "      <td>0.792883</td>\n",
       "      <td>0.207117</td>\n",
       "    </tr>\n",
       "    <tr>\n",
       "      <th>8</th>\n",
       "      <td>Pedal Cycle</td>\n",
       "      <td>0.815767</td>\n",
       "      <td>0.184233</td>\n",
       "    </tr>\n",
       "    <tr>\n",
       "      <th>9</th>\n",
       "      <td>Ridden Horse</td>\n",
       "      <td>0.833333</td>\n",
       "      <td>0.166667</td>\n",
       "    </tr>\n",
       "    <tr>\n",
       "      <th>10</th>\n",
       "      <td>Taxi/Private Hire</td>\n",
       "      <td>0.887143</td>\n",
       "      <td>0.112857</td>\n",
       "    </tr>\n",
       "    <tr>\n",
       "      <th>11</th>\n",
       "      <td>Tram</td>\n",
       "      <td>0.888889</td>\n",
       "      <td>0.111111</td>\n",
       "    </tr>\n",
       "    <tr>\n",
       "      <th>12</th>\n",
       "      <td>Van/HGV</td>\n",
       "      <td>0.839538</td>\n",
       "      <td>0.160462</td>\n",
       "    </tr>\n",
       "  </tbody>\n",
       "</table>\n",
       "</div>"
      ],
      "text/plain": [
       "Bad_Accident  Vehicle_Type_Grouped         0         1\n",
       "0                               -1  0.827586  0.172414\n",
       "1             Agricultural Vehicle  0.724951  0.275049\n",
       "2                        Bus/Coach  0.844914  0.155086\n",
       "3                              Car  0.867820  0.132180\n",
       "4                          Minibus  0.776712  0.223288\n",
       "5                 Mobility Scooter  0.752252  0.247748\n",
       "6                       Motorcycle  0.721697  0.278303\n",
       "7                            Other  0.792883  0.207117\n",
       "8                      Pedal Cycle  0.815767  0.184233\n",
       "9                     Ridden Horse  0.833333  0.166667\n",
       "10               Taxi/Private Hire  0.887143  0.112857\n",
       "11                            Tram  0.888889  0.111111\n",
       "12                         Van/HGV  0.839538  0.160462"
      ]
     },
     "execution_count": 104,
     "metadata": {},
     "output_type": "execute_result"
    }
   ],
   "source": [
    "veh_ct = pd.crosstab(index=df['Vehicle_Type_Grouped'], columns=df['Bad_Accident'], normalize='index')\n",
    "veh_ct.rename(columns={'0':'Proportion_Not_Bad', '1':'Proportion_Bad'}, inplace=True)\n",
    "veh_ct.reset_index(inplace=True)\n",
    "veh_ct"
   ]
  },
  {
   "cell_type": "code",
   "execution_count": 31,
   "metadata": {
    "collapsed": false
   },
   "outputs": [
    {
     "data": {
      "text/plain": [
       "Car                     205985\n",
       "Van/HGV                  21812\n",
       "Motorcycle               21800\n",
       "Pedal Cycle              19611\n",
       "Bus/Coach                 6951\n",
       "Taxi/Private Hire         6300\n",
       "Other                     1405\n",
       "Minibus                    730\n",
       "Agricultural Vehicle       509\n",
       "Mobility Scooter           222\n",
       "Ridden Horse               108\n",
       "-1                          58\n",
       "Tram                        18\n",
       "Name: Vehicle_Type_Grouped, dtype: int64"
      ]
     },
     "execution_count": 31,
     "metadata": {},
     "output_type": "execute_result"
    }
   ],
   "source": [
    "df['Vehicle_Type_Grouped'].value_counts()"
   ]
  },
  {
   "cell_type": "code",
   "execution_count": 54,
   "metadata": {
    "collapsed": false,
    "scrolled": false
   },
   "outputs": [
    {
     "data": {
      "text/plain": [
       "<matplotlib.axes._subplots.AxesSubplot at 0x16cdca70>"
      ]
     },
     "execution_count": 54,
     "metadata": {},
     "output_type": "execute_result"
    },
    {
     "data": {
      "image/png": "[encoded data removed]",
      "text/plain": [
       "<matplotlib.figure.Figure at 0x16cdc290>"
      ]
     },
     "metadata": {},
     "output_type": "display_data"
    }
   ],
   "source": [
    "veh_ct[1].plot.bar(sort_columns=True)"
   ]
  },
  {
   "cell_type": "markdown",
   "metadata": {},
   "source": [
    "Immediately it can be seen that motorcycles are the most have the highest proportion of their crashes as being serious or fatal, with agricultural vehicles not far behind (although they are involved in far fewer accidents since there are fewer of them on the roads)."
   ]
  },
  {
   "cell_type": "code",
   "execution_count": 55,
   "metadata": {
    "collapsed": false
   },
   "outputs": [
    {
     "data": {
      "text/html": [
       "<div>\n",
       "<table border=\"1\" class=\"dataframe\">\n",
       "  <thead>\n",
       "    <tr style=\"text-align: right;\">\n",
       "      <th></th>\n",
       "      <th>Accident_Index</th>\n",
       "      <th>Location_Easting_OSGR</th>\n",
       "      <th>Location_Northing_OSGR</th>\n",
       "      <th>Longitude</th>\n",
       "      <th>Latitude</th>\n",
       "      <th>Police_Force</th>\n",
       "      <th>Accident_Severity</th>\n",
       "      <th>Number_of_Vehicles</th>\n",
       "      <th>Number_of_Casualties</th>\n",
       "      <th>Date</th>\n",
       "      <th>...</th>\n",
       "      <th>Age_of_Driver</th>\n",
       "      <th>Age_Band_of_Driver</th>\n",
       "      <th>Engine_Capacity_(CC)</th>\n",
       "      <th>Propulsion_Code</th>\n",
       "      <th>Age_of_Vehicle</th>\n",
       "      <th>Driver_IMD_Decile</th>\n",
       "      <th>Driver_Home_Area_Type</th>\n",
       "      <th>Vehicle_IMD_Decile</th>\n",
       "      <th>Bad_Accident</th>\n",
       "      <th>Vehicle_Type_Grouped</th>\n",
       "    </tr>\n",
       "  </thead>\n",
       "  <tbody>\n",
       "    <tr>\n",
       "      <th>0</th>\n",
       "      <td>201501BS70001</td>\n",
       "      <td>525130.0</td>\n",
       "      <td>180050.0</td>\n",
       "      <td>-0.198465</td>\n",
       "      <td>51.505538</td>\n",
       "      <td>1</td>\n",
       "      <td>3</td>\n",
       "      <td>1</td>\n",
       "      <td>1</td>\n",
       "      <td>12/01/2015</td>\n",
       "      <td>...</td>\n",
       "      <td>-1</td>\n",
       "      <td>-1</td>\n",
       "      <td>2143</td>\n",
       "      <td>2</td>\n",
       "      <td>4</td>\n",
       "      <td>-1</td>\n",
       "      <td>-1</td>\n",
       "      <td>-1</td>\n",
       "      <td>0</td>\n",
       "      <td>Van/HGV</td>\n",
       "    </tr>\n",
       "    <tr>\n",
       "      <th>1</th>\n",
       "      <td>201501BS70002</td>\n",
       "      <td>526530.0</td>\n",
       "      <td>178560.0</td>\n",
       "      <td>-0.178838</td>\n",
       "      <td>51.491836</td>\n",
       "      <td>1</td>\n",
       "      <td>3</td>\n",
       "      <td>1</td>\n",
       "      <td>1</td>\n",
       "      <td>12/01/2015</td>\n",
       "      <td>...</td>\n",
       "      <td>-1</td>\n",
       "      <td>-1</td>\n",
       "      <td>1600</td>\n",
       "      <td>1</td>\n",
       "      <td>3</td>\n",
       "      <td>-1</td>\n",
       "      <td>-1</td>\n",
       "      <td>-1</td>\n",
       "      <td>0</td>\n",
       "      <td>Car</td>\n",
       "    </tr>\n",
       "    <tr>\n",
       "      <th>2</th>\n",
       "      <td>201501BS70004</td>\n",
       "      <td>524610.0</td>\n",
       "      <td>181080.0</td>\n",
       "      <td>-0.205590</td>\n",
       "      <td>51.514910</td>\n",
       "      <td>1</td>\n",
       "      <td>3</td>\n",
       "      <td>1</td>\n",
       "      <td>1</td>\n",
       "      <td>12/01/2015</td>\n",
       "      <td>...</td>\n",
       "      <td>30</td>\n",
       "      <td>6</td>\n",
       "      <td>1686</td>\n",
       "      <td>2</td>\n",
       "      <td>10</td>\n",
       "      <td>-1</td>\n",
       "      <td>1</td>\n",
       "      <td>-1</td>\n",
       "      <td>0</td>\n",
       "      <td>Car</td>\n",
       "    </tr>\n",
       "    <tr>\n",
       "      <th>3</th>\n",
       "      <td>201501BS70005</td>\n",
       "      <td>524420.0</td>\n",
       "      <td>181080.0</td>\n",
       "      <td>-0.208327</td>\n",
       "      <td>51.514952</td>\n",
       "      <td>1</td>\n",
       "      <td>3</td>\n",
       "      <td>1</td>\n",
       "      <td>1</td>\n",
       "      <td>13/01/2015</td>\n",
       "      <td>...</td>\n",
       "      <td>-1</td>\n",
       "      <td>-1</td>\n",
       "      <td>-1</td>\n",
       "      <td>-1</td>\n",
       "      <td>-1</td>\n",
       "      <td>-1</td>\n",
       "      <td>-1</td>\n",
       "      <td>-1</td>\n",
       "      <td>0</td>\n",
       "      <td>Car</td>\n",
       "    </tr>\n",
       "    <tr>\n",
       "      <th>4</th>\n",
       "      <td>201501BS70008</td>\n",
       "      <td>524630.0</td>\n",
       "      <td>179040.0</td>\n",
       "      <td>-0.206022</td>\n",
       "      <td>51.496572</td>\n",
       "      <td>1</td>\n",
       "      <td>2</td>\n",
       "      <td>2</td>\n",
       "      <td>1</td>\n",
       "      <td>09/01/2015</td>\n",
       "      <td>...</td>\n",
       "      <td>48</td>\n",
       "      <td>8</td>\n",
       "      <td>-1</td>\n",
       "      <td>-1</td>\n",
       "      <td>-1</td>\n",
       "      <td>-1</td>\n",
       "      <td>1</td>\n",
       "      <td>-1</td>\n",
       "      <td>1</td>\n",
       "      <td>Pedal Cycle</td>\n",
       "    </tr>\n",
       "  </tbody>\n",
       "</table>\n",
       "<p>5 rows × 70 columns</p>\n",
       "</div>"
      ],
      "text/plain": [
       "  Accident_Index  Location_Easting_OSGR  Location_Northing_OSGR  Longitude  \\\n",
       "0  201501BS70001               525130.0                180050.0  -0.198465   \n",
       "1  201501BS70002               526530.0                178560.0  -0.178838   \n",
       "2  201501BS70004               524610.0                181080.0  -0.205590   \n",
       "3  201501BS70005               524420.0                181080.0  -0.208327   \n",
       "4  201501BS70008               524630.0                179040.0  -0.206022   \n",
       "\n",
       "    Latitude  Police_Force  Accident_Severity  Number_of_Vehicles  \\\n",
       "0  51.505538             1                  3                   1   \n",
       "1  51.491836             1                  3                   1   \n",
       "2  51.514910             1                  3                   1   \n",
       "3  51.514952             1                  3                   1   \n",
       "4  51.496572             1                  2                   2   \n",
       "\n",
       "   Number_of_Casualties        Date          ...           Age_of_Driver  \\\n",
       "0                     1  12/01/2015          ...                      -1   \n",
       "1                     1  12/01/2015          ...                      -1   \n",
       "2                     1  12/01/2015          ...                      30   \n",
       "3                     1  13/01/2015          ...                      -1   \n",
       "4                     1  09/01/2015          ...                      48   \n",
       "\n",
       "  Age_Band_of_Driver  Engine_Capacity_(CC) Propulsion_Code  Age_of_Vehicle  \\\n",
       "0                 -1                  2143               2               4   \n",
       "1                 -1                  1600               1               3   \n",
       "2                  6                  1686               2              10   \n",
       "3                 -1                    -1              -1              -1   \n",
       "4                  8                    -1              -1              -1   \n",
       "\n",
       "   Driver_IMD_Decile  Driver_Home_Area_Type  Vehicle_IMD_Decile  Bad_Accident  \\\n",
       "0                 -1                     -1                  -1             0   \n",
       "1                 -1                     -1                  -1             0   \n",
       "2                 -1                      1                  -1             0   \n",
       "3                 -1                     -1                  -1             0   \n",
       "4                 -1                      1                  -1             1   \n",
       "\n",
       "   Vehicle_Type_Grouped  \n",
       "0               Van/HGV  \n",
       "1                   Car  \n",
       "2                   Car  \n",
       "3                   Car  \n",
       "4           Pedal Cycle  \n",
       "\n",
       "[5 rows x 70 columns]"
      ]
     },
     "execution_count": 55,
     "metadata": {},
     "output_type": "execute_result"
    }
   ],
   "source": [
    "df.head()"
   ]
  },
  {
   "cell_type": "code",
   "execution_count": 58,
   "metadata": {
    "collapsed": true
   },
   "outputs": [],
   "source": [
    "def change_weekday(x):\n",
    "    days = ['Sunday', 'Monday', 'Tuesday', 'Wednesday', 'Thursday', 'Friday', 'Saturday']\n",
    "    return days[x-1]"
   ]
  },
  {
   "cell_type": "code",
   "execution_count": 59,
   "metadata": {
    "collapsed": false
   },
   "outputs": [
    {
     "data": {
      "text/html": [
       "<div>\n",
       "<table border=\"1\" class=\"dataframe\">\n",
       "  <thead>\n",
       "    <tr style=\"text-align: right;\">\n",
       "      <th></th>\n",
       "      <th>Day_of_Week</th>\n",
       "      <th>Day_of_Week_Named</th>\n",
       "    </tr>\n",
       "  </thead>\n",
       "  <tbody>\n",
       "    <tr>\n",
       "      <th>0</th>\n",
       "      <td>2</td>\n",
       "      <td>Monday</td>\n",
       "    </tr>\n",
       "    <tr>\n",
       "      <th>1</th>\n",
       "      <td>2</td>\n",
       "      <td>Monday</td>\n",
       "    </tr>\n",
       "    <tr>\n",
       "      <th>2</th>\n",
       "      <td>2</td>\n",
       "      <td>Monday</td>\n",
       "    </tr>\n",
       "    <tr>\n",
       "      <th>3</th>\n",
       "      <td>3</td>\n",
       "      <td>Tuesday</td>\n",
       "    </tr>\n",
       "    <tr>\n",
       "      <th>4</th>\n",
       "      <td>6</td>\n",
       "      <td>Friday</td>\n",
       "    </tr>\n",
       "  </tbody>\n",
       "</table>\n",
       "</div>"
      ],
      "text/plain": [
       "   Day_of_Week Day_of_Week_Named\n",
       "0            2            Monday\n",
       "1            2            Monday\n",
       "2            2            Monday\n",
       "3            3           Tuesday\n",
       "4            6            Friday"
      ]
     },
     "execution_count": 59,
     "metadata": {},
     "output_type": "execute_result"
    }
   ],
   "source": [
    "df['Day_of_Week_Named'] = df['Day_of_Week'].apply(change_weekday)\n",
    "df[['Day_of_Week', 'Day_of_Week_Named']].head()"
   ]
  },
  {
   "cell_type": "code",
   "execution_count": 92,
   "metadata": {
    "collapsed": false
   },
   "outputs": [
    {
     "data": {
      "text/html": [
       "<div>\n",
       "<table border=\"1\" class=\"dataframe\">\n",
       "  <thead>\n",
       "    <tr style=\"text-align: right;\">\n",
       "      <th></th>\n",
       "      <th>Day_of_Week_Named</th>\n",
       "      <th>Bad_Accident</th>\n",
       "      <th>Accident_Index</th>\n",
       "      <th>Proportion</th>\n",
       "    </tr>\n",
       "  </thead>\n",
       "  <tbody>\n",
       "    <tr>\n",
       "      <th>0</th>\n",
       "      <td>Friday</td>\n",
       "      <td>3425</td>\n",
       "      <td>22374</td>\n",
       "      <td>0.153079</td>\n",
       "    </tr>\n",
       "    <tr>\n",
       "      <th>1</th>\n",
       "      <td>Monday</td>\n",
       "      <td>2892</td>\n",
       "      <td>20032</td>\n",
       "      <td>0.144369</td>\n",
       "    </tr>\n",
       "    <tr>\n",
       "      <th>2</th>\n",
       "      <td>Saturday</td>\n",
       "      <td>3131</td>\n",
       "      <td>18114</td>\n",
       "      <td>0.172850</td>\n",
       "    </tr>\n",
       "    <tr>\n",
       "      <th>3</th>\n",
       "      <td>Sunday</td>\n",
       "      <td>2838</td>\n",
       "      <td>15258</td>\n",
       "      <td>0.186001</td>\n",
       "    </tr>\n",
       "    <tr>\n",
       "      <th>4</th>\n",
       "      <td>Thursday</td>\n",
       "      <td>3107</td>\n",
       "      <td>21479</td>\n",
       "      <td>0.144653</td>\n",
       "    </tr>\n",
       "    <tr>\n",
       "      <th>5</th>\n",
       "      <td>Tuesday</td>\n",
       "      <td>3098</td>\n",
       "      <td>21431</td>\n",
       "      <td>0.144557</td>\n",
       "    </tr>\n",
       "    <tr>\n",
       "      <th>6</th>\n",
       "      <td>Wednesday</td>\n",
       "      <td>3163</td>\n",
       "      <td>21368</td>\n",
       "      <td>0.148025</td>\n",
       "    </tr>\n",
       "  </tbody>\n",
       "</table>\n",
       "</div>"
      ],
      "text/plain": [
       "  Day_of_Week_Named  Bad_Accident  Accident_Index  Proportion\n",
       "0            Friday          3425           22374    0.153079\n",
       "1            Monday          2892           20032    0.144369\n",
       "2          Saturday          3131           18114    0.172850\n",
       "3            Sunday          2838           15258    0.186001\n",
       "4          Thursday          3107           21479    0.144653\n",
       "5           Tuesday          3098           21431    0.144557\n",
       "6         Wednesday          3163           21368    0.148025"
      ]
     },
     "execution_count": 92,
     "metadata": {},
     "output_type": "execute_result"
    }
   ],
   "source": [
    "gb_accidents = df.groupby('Accident_Index').first()\n",
    "gb_accidents.reset_index(inplace=True)\n",
    "gb_accidents = gb_accidents.groupby('Day_of_Week_Named').agg({\"Accident_Index\": pd.Series.nunique, 'Bad_Accident': np.sum})\n",
    "gb_accidents.reset_index(inplace=True)\n",
    "gb_accidents['Proportion'] = gb_accidents['Bad_Accident']/gb_accidents['Accident_Index']\n",
    "gb_accidents"
   ]
  },
  {
   "cell_type": "code",
   "execution_count": 93,
   "metadata": {
    "collapsed": false
   },
   "outputs": [
    {
     "data": {
      "text/plain": [
       "<matplotlib.axes._subplots.AxesSubplot at 0x1f8e1f10>"
      ]
     },
     "execution_count": 93,
     "metadata": {},
     "output_type": "execute_result"
    },
    {
     "data": {
      "image/png": "[encoded data removed]",
      "text/plain": [
       "<matplotlib.figure.Figure at 0x109fa8d0>"
      ]
     },
     "metadata": {},
     "output_type": "display_data"
    }
   ],
   "source": [
    "sns.barplot(x='Day_of_Week_Named', y='Proportion', data=gb_accidents,\n",
    "           order=['Sunday', 'Monday', 'Tuesday', 'Wednesday', 'Thursday', 'Friday', 'Saturday'])"
   ]
  },
  {
   "cell_type": "code",
   "execution_count": null,
   "metadata": {
    "collapsed": true
   },
   "outputs": [],
   "source": []
  },
  {
   "cell_type": "code",
   "execution_count": 28,
   "metadata": {
    "collapsed": true
   },
   "outputs": [
    {
     "data": {
      "text/plain": [
       "<matplotlib.axes._subplots.AxesSubplot at 0x304847b0>"
      ]
     },
     "execution_count": 28,
     "metadata": {},
     "output_type": "execute_result"
    },
    {
     "data": {
      "image/png": "[encoded data removed]",
      "text/plain": [
       "<matplotlib.figure.Figure at 0x304844d0>"
      ]
     },
     "metadata": {},
     "output_type": "display_data"
    }
   ],
   "source": [
    "sub_df1 = pd.DataFrame(df[df['Bad_Accident']==1]['Vehicle_Type_Grouped'].value_counts())\n",
    "sub_df1.reset_index(inplace=True)\n",
    "sub_df1 = sub_df1.rename(columns={'Vehicle_Type_Grouped':'No. of Bad Accidents', 'index':'Vehicle'})\n",
    "\n",
    "sub_df0 = pd.DataFrame(df[df['Bad_Accident']==0]['Vehicle_Type_Grouped'].value_counts())\n",
    "sub_df0.reset_index(inplace=True)\n",
    "sub_df0 = sub_df0.rename(columns={'Vehicle_Type_Grouped':'No. of Not Bad Accidents', 'index':'Vehicle'})\n",
    "\n",
    "sub_df = pd.merge(sub_df1, sub_df0, on='Vehicle', how='outer')\n",
    "sub_df.set_index('Vehicle', inplace=True)\n",
    "\n",
    "sub_df.plot.bar(stacked=True, color)"
   ]
  },
  {
   "cell_type": "code",
   "execution_count": 29,
   "metadata": {
    "collapsed": false
   },
   "outputs": [
    {
     "data": {
      "text/plain": [
       "<matplotlib.axes._subplots.AxesSubplot at 0x1db55a70>"
      ]
     },
     "execution_count": 29,
     "metadata": {},
     "output_type": "execute_result"
    },
    {
     "data": {
      "image/png": "[encoded data removed]",
      "text/plain": [
       "<matplotlib.figure.Figure at 0x1fa658d0>"
      ]
     },
     "metadata": {},
     "output_type": "display_data"
    }
   ],
   "source": [
    "df[df['Bad_Accident']==1]['Age_of_Driver'].hist()"
   ]
  },
  {
   "cell_type": "code",
   "execution_count": 30,
   "metadata": {
    "collapsed": false
   },
   "outputs": [
    {
     "data": {
      "text/plain": [
       "<matplotlib.axes._subplots.AxesSubplot at 0x308dfd90>"
      ]
     },
     "execution_count": 30,
     "metadata": {},
     "output_type": "execute_result"
    },
    {
     "data": {
      "image/png": "[encoded data removed]",
      "text/plain": [
       "<matplotlib.figure.Figure at 0x1d8cfa50>"
      ]
     },
     "metadata": {},
     "output_type": "display_data"
    }
   ],
   "source": [
    "df[df['Bad_Accident']==0]['Age_of_Driver'].hist()"
   ]
  },
  {
   "cell_type": "code",
   "execution_count": null,
   "metadata": {
    "collapsed": true
   },
   "outputs": [],
   "source": []
  }
 ],
 "metadata": {
  "anaconda-cloud": {},
  "kernelspec": {
   "display_name": "Python [conda root]",
   "language": "python",
   "name": "conda-root-py"
  },
  "language_info": {
   "codemirror_mode": {
    "name": "ipython",
    "version": 2
   },
   "file_extension": ".py",
   "mimetype": "text/x-python",
   "name": "python",
   "nbconvert_exporter": "python",
   "pygments_lexer": "ipython2",
   "version": "2.7.12"
  }
 },
 "nbformat": 4,
 "nbformat_minor": 1
}
